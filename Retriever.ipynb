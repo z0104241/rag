{
 "cells": [
  {
   "cell_type": "code",
   "execution_count": 10,
   "metadata": {
    "colab": {
     "base_uri": "https://localhost:8080/"
    },
    "executionInfo": {
     "elapsed": 4419,
     "status": "ok",
     "timestamp": 1746107137287,
     "user": {
      "displayName": "전재현",
      "userId": "04568438156059612071"
     },
     "user_tz": -540
    },
    "id": "JOfN02s9GFir",
    "outputId": "33a57654-a971-4148-c54f-dfd6c9d403de"
   },
   "outputs": [
    {
     "name": "stdout",
     "output_type": "stream",
     "text": [
      "\u001b[?25l   \u001b[90m━━━━━━━━━━━━━━━━━━━━━━━━━━━━━━━━━━━━━━━━\u001b[0m \u001b[32m0.0/491.4 kB\u001b[0m \u001b[31m?\u001b[0m eta \u001b[36m-:--:--\u001b[0m\r\u001b[2K   \u001b[91m━━━━━━━━━━━━━━━━━━━━━━━━━━━━━━━━━━━━━━━\u001b[0m\u001b[90m╺\u001b[0m \u001b[32m481.3/491.4 kB\u001b[0m \u001b[31m19.8 MB/s\u001b[0m eta \u001b[36m0:00:01\u001b[0m\r\u001b[2K   \u001b[90m━━━━━━━━━━━━━━━━━━━━━━━━━━━━━━━━━━━━━━━━\u001b[0m \u001b[32m491.4/491.4 kB\u001b[0m \u001b[31m13.8 MB/s\u001b[0m eta \u001b[36m0:00:00\u001b[0m\n",
      "\u001b[?25h\u001b[?25l   \u001b[90m━━━━━━━━━━━━━━━━━━━━━━━━━━━━━━━━━━━━━━━━\u001b[0m \u001b[32m0.0/116.3 kB\u001b[0m \u001b[31m?\u001b[0m eta \u001b[36m-:--:--\u001b[0m\r\u001b[2K   \u001b[90m━━━━━━━━━━━━━━━━━━━━━━━━━━━━━━━━━━━━━━━━\u001b[0m \u001b[32m116.3/116.3 kB\u001b[0m \u001b[31m12.9 MB/s\u001b[0m eta \u001b[36m0:00:00\u001b[0m\n",
      "\u001b[?25h\u001b[?25l   \u001b[90m━━━━━━━━━━━━━━━━━━━━━━━━━━━━━━━━━━━━━━━━\u001b[0m \u001b[32m0.0/193.6 kB\u001b[0m \u001b[31m?\u001b[0m eta \u001b[36m-:--:--\u001b[0m\r\u001b[2K   \u001b[90m━━━━━━━━━━━━━━━━━━━━━━━━━━━━━━━━━━━━━━━━\u001b[0m \u001b[32m193.6/193.6 kB\u001b[0m \u001b[31m19.1 MB/s\u001b[0m eta \u001b[36m0:00:00\u001b[0m\n",
      "\u001b[?25h\u001b[?25l   \u001b[90m━━━━━━━━━━━━━━━━━━━━━━━━━━━━━━━━━━━━━━━━\u001b[0m \u001b[32m0.0/143.5 kB\u001b[0m \u001b[31m?\u001b[0m eta \u001b[36m-:--:--\u001b[0m\r\u001b[2K   \u001b[90m━━━━━━━━━━━━━━━━━━━━━━━━━━━━━━━━━━━━━━━━\u001b[0m \u001b[32m143.5/143.5 kB\u001b[0m \u001b[31m14.4 MB/s\u001b[0m eta \u001b[36m0:00:00\u001b[0m\n",
      "\u001b[?25h\u001b[?25l   \u001b[90m━━━━━━━━━━━━━━━━━━━━━━━━━━━━━━━━━━━━━━━━\u001b[0m \u001b[32m0.0/194.8 kB\u001b[0m \u001b[31m?\u001b[0m eta \u001b[36m-:--:--\u001b[0m\r\u001b[2K   \u001b[90m━━━━━━━━━━━━━━━━━━━━━━━━━━━━━━━━━━━━━━━━\u001b[0m \u001b[32m194.8/194.8 kB\u001b[0m \u001b[31m18.1 MB/s\u001b[0m eta \u001b[36m0:00:00\u001b[0m\n",
      "\u001b[?25h\u001b[31mERROR: pip's dependency resolver does not currently take into account all the packages that are installed. This behaviour is the source of the following dependency conflicts.\n",
      "gcsfs 2025.3.2 requires fsspec==2025.3.2, but you have fsspec 2025.3.0 which is incompatible.\u001b[0m\u001b[31m\n",
      "\u001b[0m"
     ]
    }
   ],
   "source": [
    "!pip install -q datasets"
   ]
  },
  {
   "cell_type": "code",
   "execution_count": null,
   "metadata": {
    "executionInfo": {
     "elapsed": 2771,
     "status": "ok",
     "timestamp": 1746109191637,
     "user": {
      "displayName": "전재현",
      "userId": "04568438156059612071"
     },
     "user_tz": -540
    },
    "id": "hXJDVKQRADKS"
   },
   "outputs": [],
   "source": [
    "!pip install -q langchain pypdf sentence-transformers chromadb openai langchain_community datasets\n",
    "openai_api_key = ''\n",
    "pth=''"
   ]
  },
  {
   "cell_type": "markdown",
   "metadata": {
    "id": "8GRXEdllAIhm"
   },
   "source": [
    "# 1. Multi-Query Retriever\n"
   ]
  },
  {
   "cell_type": "markdown",
   "metadata": {
    "id": "Cb8S2RfkAPT_"
   },
   "source": [
    "> 사용자의 단일 질문을 여러 개의 관련 질의로 확장하여 검색을 수행하는 기법\n",
    "\n",
    ">원본 쿼리를 여러 변형 쿼리로 재구성(보통 LLM 활용)\n",
    "\n",
    "\n",
    "> **적합한 상황**\n",
    "- 모호하거나 복잡한 질문 처리\n",
    "- 포괄적인 정보 수집이 필요한 경우\n",
    "- 사용자 질문의 의도가 다양한 해석 가능성을 가질 때\n",
    "- 다면적 측면을 가진 질문"
   ]
  },
  {
   "cell_type": "code",
   "execution_count": 4,
   "metadata": {
    "colab": {
     "base_uri": "https://localhost:8080/",
     "height": 586,
     "referenced_widgets": [
      "145372b0a1fb43d991f51f5e05b61a05",
      "a92695350ed748838b59e49e269cf918",
      "1550c308c91f4b8287b6bfae899f6af5",
      "57fa063dc52e4bccb28fb04400f20f49",
      "a5b26af304f04493972a80cae76cdb4f",
      "0aa1d150aef0496284cc456e1f5eadcc",
      "2185fc2a7aa84a0b83e98d20484548c2",
      "d62f4cfef27c474988765189835e2142",
      "d4caaef39a91471b86e03c6994914f2f",
      "1417a3371f7d4929a2f08cbf3a23615d",
      "d07675fcd6944fab8dde4f6025fcd6e1",
      "d5f1623f27bd4772beef0ae18c3b5b2c",
      "3aa4009b79d249a182f6377cb15522d6",
      "aee9e359a3fb470c9b3e1d5f7c4e5e1f",
      "9da538cbc5994fbbb18255fd2fd84d16",
      "84dca25ae1724d8882b11dc1d766072e",
      "3285d82e2f7449cda29b9d98028a0d92",
      "3c9c28401d1e4842abd8899c51cb12ba",
      "b99b2908bcff4907a27c3575903406ca",
      "854016e377f84627b28c730e17bc5c69",
      "cc4c9775f1704585a7f9856a7e095c81",
      "43b833df682f4b1a8aac8d04c68a5d14",
      "9c848c2b9efb4411bc7fb3c545e56a26",
      "62b6f3c956014a37abba6666a831c53e",
      "cc52d28d5d514ebe9c7048026323fcea",
      "cb963f8c05d541788746ffda2226d645",
      "7e954b1fdda34c6f8afc2f0a4b2d9333",
      "b545bb9cb733438e97ff6920c5024783",
      "e7cdb01003d540d58608966ec434f9f3",
      "e564e710e737467cab024584b1fed5be",
      "d190ad4777fe44b2af18cfc86f1f55f3",
      "1ede0b3bbaea430f981d57e335a01b78",
      "45a5e942b4204e1798e2ced0389f2001",
      "4cd2b207675f4fc484a5730d2d32860a",
      "698a627bf18b44a6ba057f234b86c17e",
      "ae2fe4dc30ab4c07857e9d92a9439563",
      "d56f7db5a9bd4973ab49dcca161a253b",
      "7bed791bc02d4892bfc91ce7ec86c9e4",
      "6757854c5a7a4a5bb8ad9f9799d9dc07",
      "113582617b844defbe82e1136e79c131",
      "6a1a39cfac2d41e99ed0615c72c83a45",
      "53e070d8e51940d69b5ee755d5af93ec",
      "aa89f898cd2e4903b5d8151610755952",
      "1d071b3791e0448aacbe896a575ce475",
      "ccb827e395ff49c4a6ae930e83c72db9",
      "216fea24e6fb4b9eac6ae7225c160705",
      "86924b26e4c044d195e95788cfb6f328",
      "0635e7c8e84b4575a4d066c4cd1510c2",
      "40d5cbe69c8540e98bbce4aa03922d11",
      "1710b1a1b1fb46c69c39e329aab0162c",
      "b3a5d9a8eb6445219ed99a60c1e3f553",
      "a99e12372aa241f4be2603c413b3e388",
      "c12ff057a57947379494c5558a222c80",
      "c995156f67254dd4a15e9ab6c95f7f6d",
      "6061d51eb175402e9b9b02fa4be2638f",
      "aea8bf87fd444a8d8b657da38d0d7a1c",
      "5f1c4fd556f441f28a849f4aaf3a5f3b",
      "0b8ce4dd1b9d46849839a1ce3de4de2a",
      "b13e4e079b9241109c717471f45caf8e",
      "123324c61e164a24b2bf90cd32d1faa0",
      "e8427be3f5bf4450bc5f2f4188582f5f",
      "ac0f797213c741f3a44d369ab394ac12",
      "8c8cc64844e1443f91333d19a7b1f56c",
      "024c6c0c8efa4f098829507139fc1d4c",
      "5aec6e415b1f4e6581adbe1e8aa35631",
      "9c1b642856444ac19726d1aa3d3eed63",
      "2f3bb87adcab439393a40375a149b55e",
      "f972348465d14210a5d5629f2371d540",
      "c7168b007beb4e35a1601dc053a245e2",
      "f1fd8adeeb3741c4857b0092b1eb1312",
      "3d8214b48ce74551ab747f29a9390530",
      "9bb9c7e11f6f4e239084d3c10391ce62",
      "c2c97b8e36e34d9fa58a329c966d12c5",
      "a9a0008e09f84b0bbe68c3fc3c208a7e",
      "c63eb221855f474ab3ee70c0127df52d",
      "cced170835be4b1db0a2416562d438b4",
      "1309cf188b4546ef99e6bc631a167107",
      "80cabdf5330249d9bb9153f3f99e3dde",
      "2c2664aaa0c44493b3adcbbd6eecd697",
      "b34e0a36337a438e949eae1d70fe1204",
      "57b046924f194ea4a91754c5ac31a060",
      "f5a17ee37b2e4fd7a9029da02a6640c0",
      "f569244414c547ce8d363959f326fe0d",
      "1c8b44e34baf42a5807ceda38e0371ea",
      "c33109d1a08a4632a79f0e3993b7bd20",
      "902d8acba6764003910f459738884822",
      "9e8e7ba50b47410f83313c8379d04cf5",
      "cbe60ee977af4c5a94917030f206d2eb",
      "28e73100a95c4f0cb91f43d82d1254f8",
      "d9abc974b7ba4f65b00ee6c116589fc8",
      "cbd5a535c4c5444e94eb9c575ae9273c",
      "03ad88b55bb3461c81ad43ae98510389",
      "d3be270d9be4408183eccb05140366ca",
      "bdd870c240ef45d587601e580df55d2d",
      "1cc9b266ddf24ab0851f2367c67f1789",
      "494d5b795e414e648298b99e7d407e9a",
      "4efc06078225451db9594140332fd610",
      "813f75c6f8f2430bb72a04cdf56ae8ca",
      "e8245503f2c841dca94ecc6c9098d356",
      "4dc71496d5ff437c97431854c60f05fa",
      "48a732784f5247d3b5780ae357a4842c",
      "04c5335b70ee4e249ee18518be9a389f",
      "d4e478f8f9fb4a8d824011ecd34d2c23",
      "91df9421dbaf4e51bffa64096cd5a5b0",
      "085e25027ce5436a83debcf0e959cd0b",
      "17182a9146cb41e19ce54e88b1fa654e",
      "5c8e5b3a7a084eb9a3abfbaef5ea6b5b",
      "816f31f7f834476fa45d1667185e8f74",
      "bc50ddd0f8a94a348f3d81f449320aae",
      "03f48ebffd6e466abe0016f8a6f48da5",
      "e89c1e287d1f4838bc65d9144e09103f",
      "3923fceb303f4629952ea67c36e3132c",
      "ab92f3bac02f4c7c81185e467c26669e",
      "62c6df25def3417b8c7bb83d36c0f948",
      "f375c59c161a4405b9745a06984d97d7",
      "52c0e71a00344ca5b8fb2eda67636e17",
      "6306d7abbf904bd59a8f2f8bb5666430",
      "040fa0b38b0f4c528644e0edf08f57f5",
      "e7dc39aaa9f5496d81876bfd5d19a202",
      "db936b31aa4d4128ba29594eda4941c4",
      "e59226d7d2d3458f963b4154b35475d1",
      "e1dd65ab5c7845c0a32e4ecf4e117074",
      "71eac95795bd462f860fd86bdfca20a0",
      "3d76aa8a5b8e4cadb2244275fb49f4ec",
      "7a6cdb4e038d4c19ab762be13d630c4d",
      "e3a4fdd7343b4bcb80ef92e23ade232a",
      "c8e97468c041483c9a2721a7b73a3a73",
      "c416f40c262e45ccafdf581a59878b6f",
      "ff94ef955ba44450a335e86556ea2f79",
      "931995c8591046ab86dc2799a9d43995",
      "9b599e2ed23740258e6f32bc590d588f",
      "d55b6809947e408ea02d5c5e4235bd18"
     ]
    },
    "executionInfo": {
     "elapsed": 70675,
     "status": "ok",
     "timestamp": 1746106463869,
     "user": {
      "displayName": "전재현",
      "userId": "04568438156059612071"
     },
     "user_tz": -540
    },
    "id": "034KnvKzAD6M",
    "outputId": "cc875ad4-c8a6-49f4-c2fc-5152dde59db2"
   },
   "outputs": [
    {
     "name": "stderr",
     "output_type": "stream",
     "text": [
      "WARNING:langchain_community.utils.user_agent:USER_AGENT environment variable not set, consider setting it to identify your requests.\n",
      "<ipython-input-4-ade1f8a31071>:18: LangChainDeprecationWarning: The class `HuggingFaceEmbeddings` was deprecated in LangChain 0.2.2 and will be removed in 1.0. An updated version of the class exists in the :class:`~langchain-huggingface package and should be used instead. To use it run `pip install -U :class:`~langchain-huggingface` and import as `from :class:`~langchain_huggingface import HuggingFaceEmbeddings``.\n",
      "  ko_embedding = HuggingFaceEmbeddings(\n",
      "/usr/local/lib/python3.11/dist-packages/huggingface_hub/utils/_auth.py:94: UserWarning: \n",
      "The secret `HF_TOKEN` does not exist in your Colab secrets.\n",
      "To authenticate with the Hugging Face Hub, create a token in your settings tab (https://huggingface.co/settings/tokens), set it as secret in your Google Colab and restart your session.\n",
      "You will be able to reuse this secret in all of your notebooks.\n",
      "Please note that authentication is recommended but still optional to access public models or datasets.\n",
      "  warnings.warn(\n"
     ]
    },
    {
     "data": {
      "application/vnd.jupyter.widget-view+json": {
       "model_id": "145372b0a1fb43d991f51f5e05b61a05",
       "version_major": 2,
       "version_minor": 0
      },
      "text/plain": [
       "modules.json:   0%|          | 0.00/229 [00:00<?, ?B/s]"
      ]
     },
     "metadata": {},
     "output_type": "display_data"
    },
    {
     "data": {
      "application/vnd.jupyter.widget-view+json": {
       "model_id": "d5f1623f27bd4772beef0ae18c3b5b2c",
       "version_major": 2,
       "version_minor": 0
      },
      "text/plain": [
       "config_sentence_transformers.json:   0%|          | 0.00/123 [00:00<?, ?B/s]"
      ]
     },
     "metadata": {},
     "output_type": "display_data"
    },
    {
     "data": {
      "application/vnd.jupyter.widget-view+json": {
       "model_id": "9c848c2b9efb4411bc7fb3c545e56a26",
       "version_major": 2,
       "version_minor": 0
      },
      "text/plain": [
       "README.md:   0%|          | 0.00/4.46k [00:00<?, ?B/s]"
      ]
     },
     "metadata": {},
     "output_type": "display_data"
    },
    {
     "data": {
      "application/vnd.jupyter.widget-view+json": {
       "model_id": "4cd2b207675f4fc484a5730d2d32860a",
       "version_major": 2,
       "version_minor": 0
      },
      "text/plain": [
       "sentence_bert_config.json:   0%|          | 0.00/53.0 [00:00<?, ?B/s]"
      ]
     },
     "metadata": {},
     "output_type": "display_data"
    },
    {
     "data": {
      "application/vnd.jupyter.widget-view+json": {
       "model_id": "ccb827e395ff49c4a6ae930e83c72db9",
       "version_major": 2,
       "version_minor": 0
      },
      "text/plain": [
       "config.json:   0%|          | 0.00/620 [00:00<?, ?B/s]"
      ]
     },
     "metadata": {},
     "output_type": "display_data"
    },
    {
     "data": {
      "application/vnd.jupyter.widget-view+json": {
       "model_id": "aea8bf87fd444a8d8b657da38d0d7a1c",
       "version_major": 2,
       "version_minor": 0
      },
      "text/plain": [
       "pytorch_model.bin:   0%|          | 0.00/443M [00:00<?, ?B/s]"
      ]
     },
     "metadata": {},
     "output_type": "display_data"
    },
    {
     "data": {
      "application/vnd.jupyter.widget-view+json": {
       "model_id": "2f3bb87adcab439393a40375a149b55e",
       "version_major": 2,
       "version_minor": 0
      },
      "text/plain": [
       "tokenizer_config.json:   0%|          | 0.00/538 [00:00<?, ?B/s]"
      ]
     },
     "metadata": {},
     "output_type": "display_data"
    },
    {
     "data": {
      "application/vnd.jupyter.widget-view+json": {
       "model_id": "80cabdf5330249d9bb9153f3f99e3dde",
       "version_major": 2,
       "version_minor": 0
      },
      "text/plain": [
       "model.safetensors:   0%|          | 0.00/442M [00:00<?, ?B/s]"
      ]
     },
     "metadata": {},
     "output_type": "display_data"
    },
    {
     "data": {
      "application/vnd.jupyter.widget-view+json": {
       "model_id": "28e73100a95c4f0cb91f43d82d1254f8",
       "version_major": 2,
       "version_minor": 0
      },
      "text/plain": [
       "vocab.txt:   0%|          | 0.00/248k [00:00<?, ?B/s]"
      ]
     },
     "metadata": {},
     "output_type": "display_data"
    },
    {
     "data": {
      "application/vnd.jupyter.widget-view+json": {
       "model_id": "4dc71496d5ff437c97431854c60f05fa",
       "version_major": 2,
       "version_minor": 0
      },
      "text/plain": [
       "tokenizer.json:   0%|          | 0.00/495k [00:00<?, ?B/s]"
      ]
     },
     "metadata": {},
     "output_type": "display_data"
    },
    {
     "data": {
      "application/vnd.jupyter.widget-view+json": {
       "model_id": "e89c1e287d1f4838bc65d9144e09103f",
       "version_major": 2,
       "version_minor": 0
      },
      "text/plain": [
       "special_tokens_map.json:   0%|          | 0.00/112 [00:00<?, ?B/s]"
      ]
     },
     "metadata": {},
     "output_type": "display_data"
    },
    {
     "data": {
      "application/vnd.jupyter.widget-view+json": {
       "model_id": "e1dd65ab5c7845c0a32e4ecf4e117074",
       "version_major": 2,
       "version_minor": 0
      },
      "text/plain": [
       "config.json:   0%|          | 0.00/190 [00:00<?, ?B/s]"
      ]
     },
     "metadata": {},
     "output_type": "display_data"
    }
   ],
   "source": [
    "# Build a sample vectorDB\n",
    "from langchain.text_splitter import RecursiveCharacterTextSplitter\n",
    "from langchain_community.document_loaders import WebBaseLoader\n",
    "from langchain_community.vectorstores import Chroma\n",
    "from langchain.embeddings import HuggingFaceEmbeddings\n",
    "\n",
    "# Load blog post\n",
    "loader = WebBaseLoader(\"https://github.com/microsoft/BitNet\")\n",
    "data = loader.load()\n",
    "\n",
    "# Split\n",
    "text_splitter = RecursiveCharacterTextSplitter(chunk_size=300, chunk_overlap=0)\n",
    "splits = text_splitter.split_documents(data)\n",
    "\n",
    "# VectorDB\n",
    "model_name = \"jhgan/ko-sbert-nli\"\n",
    "encode_kwargs = {'normalize_embeddings': True}\n",
    "ko_embedding = HuggingFaceEmbeddings(\n",
    "    model_name=model_name,\n",
    "    encode_kwargs=encode_kwargs\n",
    ")\n",
    "\n",
    "vectordb = Chroma.from_documents(documents=splits, embedding=ko_embedding)"
   ]
  },
  {
   "cell_type": "code",
   "execution_count": 5,
   "metadata": {
    "colab": {
     "base_uri": "https://localhost:8080/"
    },
    "executionInfo": {
     "elapsed": 2147,
     "status": "ok",
     "timestamp": 1746106466021,
     "user": {
      "displayName": "전재현",
      "userId": "04568438156059612071"
     },
     "user_tz": -540
    },
    "id": "Tbj6Dq6XAD3n",
    "outputId": "78ed8dc5-4335-42a1-a406-1b9d32b4b3b7"
   },
   "outputs": [
    {
     "name": "stderr",
     "output_type": "stream",
     "text": [
      "<ipython-input-5-c959abc2c9e1>:5: LangChainDeprecationWarning: The class `ChatOpenAI` was deprecated in LangChain 0.0.10 and will be removed in 1.0. An updated version of the class exists in the :class:`~langchain-openai package and should be used instead. To use it run `pip install -U :class:`~langchain-openai` and import as `from :class:`~langchain_openai import ChatOpenAI``.\n",
      "  llm = ChatOpenAI(temperature=0, openai_api_key = openai_api_key)\n"
     ]
    }
   ],
   "source": [
    "from langchain.retrievers.multi_query import MultiQueryRetriever\n",
    "from langchain.chat_models import ChatOpenAI\n",
    "\n",
    "question = \"bitnet의 파라매터는 몇개야?\"\n",
    "llm = ChatOpenAI(temperature=0, openai_api_key = openai_api_key)\n",
    "retriever_from_llm = MultiQueryRetriever.from_llm(\n",
    "    retriever=vectordb.as_retriever(), llm=llm\n",
    ")"
   ]
  },
  {
   "cell_type": "code",
   "execution_count": 6,
   "metadata": {
    "colab": {
     "base_uri": "https://localhost:8080/"
    },
    "executionInfo": {
     "elapsed": 1944,
     "status": "ok",
     "timestamp": 1746106514640,
     "user": {
      "displayName": "전재현",
      "userId": "04568438156059612071"
     },
     "user_tz": -540
    },
    "id": "9zFzyPg3DWfx",
    "outputId": "408a0f3c-326c-4861-d020-d0cff04d5ee4"
   },
   "outputs": [
    {
     "name": "stderr",
     "output_type": "stream",
     "text": [
      "<ipython-input-6-f655e1e08de9>:7: LangChainDeprecationWarning: The method `BaseRetriever.get_relevant_documents` was deprecated in langchain-core 0.1.46 and will be removed in 1.0. Use :meth:`~invoke` instead.\n",
      "  unique_docs = retriever_from_llm.get_relevant_documents(query=question)\n",
      "INFO:langchain.retrievers.multi_query:Generated queries: ['1. How many parameters does bitnet have?', '2. What is the total number of parameters in bitnet?', '3. Can you tell me the quantity of parameters in bitnet?']\n"
     ]
    },
    {
     "data": {
      "text/plain": [
       "9"
      ]
     },
     "execution_count": 6,
     "metadata": {},
     "output_type": "execute_result"
    }
   ],
   "source": [
    "# Set logging for the queries\n",
    "import logging\n",
    "\n",
    "logging.basicConfig()\n",
    "logging.getLogger(\"langchain.retrievers.multi_query\").setLevel(logging.INFO)\n",
    "\n",
    "unique_docs = retriever_from_llm.get_relevant_documents(query=question)\n",
    "len(unique_docs)\n",
    "\n"
   ]
  },
  {
   "cell_type": "markdown",
   "metadata": {
    "id": "I3R-vZNcD8u1"
   },
   "source": [
    "'1. How many parameters does bitnet have?',\n",
    "\n",
    "'2. What is the total number of parameters in bitnet?',\n",
    "\n",
    "'3. Can you tell me the quantity of parameters in bitnet?'\n",
    "\n",
    "3가지 쿼리가 재생성됨"
   ]
  },
  {
   "cell_type": "code",
   "execution_count": null,
   "metadata": {
    "id": "NGM6J9psDWa4"
   },
   "outputs": [],
   "source": []
  },
  {
   "cell_type": "code",
   "execution_count": null,
   "metadata": {
    "id": "07uRm43cDWTG"
   },
   "outputs": [],
   "source": []
  },
  {
   "cell_type": "markdown",
   "metadata": {
    "id": "C-3IxxV0ENvP"
   },
   "source": [
    "# 2. Parent-document Retriever"
   ]
  },
  {
   "cell_type": "markdown",
   "metadata": {
    "id": "Htc2heg4EVVy"
   },
   "source": [
    "> 문서의 계층적 구조를 활용하는 검색 방식으로 작은 청크를 검색한 후, 그 청크가 속한 더 큰 문맥(상위 문서)을 함께 반환\n",
    "\n",
    "> 작은 단위로 문서를 인덱싱하되, 검색 시 그 상위 문서의 컨텍스트도 함께 제공\n",
    "\n",
    "> **적합한 상황**\n",
    "- 문서 간 관계나 계층 구조가 중요한 경우\n",
    "- 법률 문서, 학술 논문 등 맥락이 중요한 도메인\n",
    "- 문서의 특정 부분만으로는 완전한 이해가 어려운 주제\n",
    "- 예: 법률 조항 해석, 논문의 특정 결과 해석\n"
   ]
  },
  {
   "cell_type": "code",
   "execution_count": 3,
   "metadata": {
    "executionInfo": {
     "elapsed": 556,
     "status": "ok",
     "timestamp": 1746109150899,
     "user": {
      "displayName": "전재현",
      "userId": "04568438156059612071"
     },
     "user_tz": -540
    },
    "id": "xxNGhPpRAD1X"
   },
   "outputs": [],
   "source": [
    "from langchain.retrievers import ParentDocumentRetriever\n",
    "from langchain.storage import InMemoryStore\n",
    "from langchain.text_splitter import RecursiveCharacterTextSplitter\n",
    "from langchain.document_loaders import PyPDFLoader\n",
    "from langchain_community.vectorstores import Chroma\n",
    "from langchain.embeddings import HuggingFaceEmbeddings\n"
   ]
  },
  {
   "cell_type": "code",
   "execution_count": 25,
   "metadata": {
    "executionInfo": {
     "elapsed": 5463,
     "status": "ok",
     "timestamp": 1746107819601,
     "user": {
      "displayName": "전재현",
      "userId": "04568438156059612071"
     },
     "user_tz": -540
    },
    "id": "rUkSOn2xADy4"
   },
   "outputs": [],
   "source": [
    "loaders = [\n",
    "    PyPDFLoader(pth  + \"250122청년고용촉진특별위원회안건.pdf\"),\n",
    "    PyPDFLoader(pth  + \"2025국내외경제전망.pdf\")]\n",
    "docs = []\n",
    "for loader in loaders:\n",
    "    docs.extend(loader.load_and_split())"
   ]
  },
  {
   "cell_type": "code",
   "execution_count": 4,
   "metadata": {
    "colab": {
     "base_uri": "https://localhost:8080/"
    },
    "executionInfo": {
     "elapsed": 17589,
     "status": "ok",
     "timestamp": 1746109171426,
     "user": {
      "displayName": "전재현",
      "userId": "04568438156059612071"
     },
     "user_tz": -540
    },
    "id": "pzMUrk4XADwb",
    "outputId": "31303bce-2659-43c9-e2cf-7cb759e948ff"
   },
   "outputs": [
    {
     "name": "stderr",
     "output_type": "stream",
     "text": [
      "<ipython-input-4-07b97c86aaa8>:3: LangChainDeprecationWarning: The class `HuggingFaceEmbeddings` was deprecated in LangChain 0.2.2 and will be removed in 1.0. An updated version of the class exists in the :class:`~langchain-huggingface package and should be used instead. To use it run `pip install -U :class:`~langchain-huggingface` and import as `from :class:`~langchain_huggingface import HuggingFaceEmbeddings``.\n",
      "  ko_embedding = HuggingFaceEmbeddings(\n",
      "/usr/local/lib/python3.11/dist-packages/huggingface_hub/utils/_auth.py:94: UserWarning: \n",
      "The secret `HF_TOKEN` does not exist in your Colab secrets.\n",
      "To authenticate with the Hugging Face Hub, create a token in your settings tab (https://huggingface.co/settings/tokens), set it as secret in your Google Colab and restart your session.\n",
      "You will be able to reuse this secret in all of your notebooks.\n",
      "Please note that authentication is recommended but still optional to access public models or datasets.\n",
      "  warnings.warn(\n"
     ]
    }
   ],
   "source": [
    "model_name = \"jhgan/ko-sbert-nli\"\n",
    "encode_kwargs = {'normalize_embeddings': True}\n",
    "ko_embedding = HuggingFaceEmbeddings(\n",
    "    model_name=model_name,\n",
    "    encode_kwargs=encode_kwargs\n",
    ")"
   ]
  },
  {
   "cell_type": "code",
   "execution_count": 22,
   "metadata": {
    "colab": {
     "base_uri": "https://localhost:8080/"
    },
    "executionInfo": {
     "elapsed": 25,
     "status": "ok",
     "timestamp": 1746107340367,
     "user": {
      "displayName": "전재현",
      "userId": "04568438156059612071"
     },
     "user_tz": -540
    },
    "id": "H9y_hUXPADuB",
    "outputId": "016c6fd5-48ff-4acb-e3e9-8a5ef5c813e8"
   },
   "outputs": [
    {
     "name": "stderr",
     "output_type": "stream",
     "text": [
      "<ipython-input-22-bc8d95877a1b>:4: LangChainDeprecationWarning: The class `Chroma` was deprecated in LangChain 0.2.9 and will be removed in 1.0. An updated version of the class exists in the :class:`~langchain-chroma package and should be used instead. To use it run `pip install -U :class:`~langchain-chroma` and import as `from :class:`~langchain_chroma import Chroma``.\n",
      "  vectorstore = Chroma(\n"
     ]
    }
   ],
   "source": [
    "# 하위문서의 청크사이즈 설정\n",
    "child_splitter = RecursiveCharacterTextSplitter(chunk_size=500)\n",
    "\n",
    "vectorstore = Chroma(\n",
    "    collection_name=\"full_documents\", embedding_function=ko_embedding\n",
    ")\n",
    "# 리트리버\n",
    "store = InMemoryStore()\n",
    "retriever = ParentDocumentRetriever(\n",
    "    vectorstore=vectorstore,\n",
    "    docstore=store,\n",
    "    child_splitter=child_splitter,\n",
    ")"
   ]
  },
  {
   "cell_type": "code",
   "execution_count": 26,
   "metadata": {
    "executionInfo": {
     "elapsed": 45303,
     "status": "ok",
     "timestamp": 1746107935521,
     "user": {
      "displayName": "전재현",
      "userId": "04568438156059612071"
     },
     "user_tz": -540
    },
    "id": "PWqZvsBmGzN-"
   },
   "outputs": [],
   "source": [
    "retriever.add_documents(docs, ids=None)"
   ]
  },
  {
   "cell_type": "code",
   "execution_count": 30,
   "metadata": {
    "colab": {
     "base_uri": "https://localhost:8080/"
    },
    "executionInfo": {
     "elapsed": 131,
     "status": "ok",
     "timestamp": 1746107985297,
     "user": {
      "displayName": "전재현",
      "userId": "04568438156059612071"
     },
     "user_tz": -540
    },
    "id": "pQ3nj5PhGzwN",
    "outputId": "ccc55beb-4808-4e0d-bc1b-ec1fa379156d"
   },
   "outputs": [
    {
     "name": "stdout",
     "output_type": "stream",
     "text": [
      "글 길이: 497\n",
      "\n",
      "\n",
      "붙임 2 주요 청년고용정책 사업 개요1. 대학일자리플러스센터□(개요)청년에 가장 가까운 전달체계로 고용정책 홍보·안내및 참여를 지원하는 대학 내 취업 지원 인프라구축     * 전국 121개교 운영(수도권 45개교, 비수도권 76개교)ㅇ 재학·졸업생·지역 청년 대상 취업 상담,취업 지원 프로그램,기업 매칭,지역 청년 특화프로그램 등 제공□주요 내용ㅇ (재학생 맞춤형 고용서비스)1:1상담을 기반으로 저학년은 직업·진로 탐색과 설계,고학년은 취업활동계획 수립 및 훈련·일경험 연계 등 취업역량 향상 지원대  상 재학생 맞춤형 고용서비스 저학년 중심빌 드 업프 로 젝 트▪ 개인별 직업지도 및 진로탐색 역량제고 지원   * AI 기반 직업정보 제공, 1:1 심층상담 및 단기 일경험 등 지원  고학년 중심점 프 업 프 로 젝 트▪자기주도형(역량高): 취업스킬 향상 프로그램 지원 ▪서비스참여형(역량低): 훈련ㆍ일경험 기회 연계 -(운영현황)'24년 전국 53개교*대학일자리플러스센터에서 운영\n"
     ]
    }
   ],
   "source": [
    "sub_docs = vectorstore.similarity_search(\"대학일자리플러스센터 내용\")\n",
    "print(\"글 길이: {}\\n\\n\".format(len(sub_docs[0].page_content)))\n",
    "print(sub_docs[0].page_content)"
   ]
  },
  {
   "cell_type": "code",
   "execution_count": 31,
   "metadata": {
    "colab": {
     "base_uri": "https://localhost:8080/"
    },
    "executionInfo": {
     "elapsed": 92,
     "status": "ok",
     "timestamp": 1746107985756,
     "user": {
      "displayName": "전재현",
      "userId": "04568438156059612071"
     },
     "user_tz": -540
    },
    "id": "iyCvjdcFGztO",
    "outputId": "b415893d-9784-4d62-db5f-455e6a0b558d"
   },
   "outputs": [
    {
     "name": "stdout",
     "output_type": "stream",
     "text": [
      "글 길이: 735\n",
      "\n",
      "\n",
      "- 13 -\n",
      "붙임 2 주요 청년고용정책 사업 개요1. 대학일자리플러스센터□(개요)청년에 가장 가까운 전달체계로 고용정책 홍보·안내및 참여를 지원하는 대학 내 취업 지원 인프라구축     * 전국 121개교 운영(수도권 45개교, 비수도권 76개교)ㅇ 재학·졸업생·지역 청년 대상 취업 상담,취업 지원 프로그램,기업 매칭,지역 청년 특화프로그램 등 제공□주요 내용ㅇ (재학생 맞춤형 고용서비스)1:1상담을 기반으로 저학년은 직업·진로 탐색과 설계,고학년은 취업활동계획 수립 및 훈련·일경험 연계 등 취업역량 향상 지원대  상 재학생 맞춤형 고용서비스 저학년 중심빌 드 업프 로 젝 트▪ 개인별 직업지도 및 진로탐색 역량제고 지원   * AI 기반 직업정보 제공, 1:1 심층상담 및 단기 일경험 등 지원  고학년 중심점 프 업 프 로 젝 트▪자기주도형(역량高): 취업스킬 향상 프로그램 지원 ▪서비스참여형(역량低): 훈련ㆍ일경험 기회 연계 -(운영현황)'24년 전국 53개교*대학일자리플러스센터에서 운영     * ▴(대학 종류별) 일반대학 47개교, 전문대학 6개교 ▴(지역별) 수도권 21개교, 비수도권 32개교ㅇ (고교생 맞춤형 고용서비스)직업계고 등 고교생 대상으로 진로탐색·설계,취업활동계획 수립,특화 취업프로그램 운영,기업 탐방,매칭 지원 등     * 20개교(직업계고 160여개 서비스) 운영 중□(지원 실적)진로·취업 기초 상담 약 130만건,각종 취업지원 프로그램 참여 약 115만건 등('23년)\n"
     ]
    }
   ],
   "source": [
    "retrieved_docs = retriever.get_relevant_documents(\"대학일자리플러스센터 내용\")\n",
    "print(\"글 길이: {}\\n\\n\".format(len(retrieved_docs[0].page_content)))\n",
    "print(retrieved_docs[0].page_content)\n"
   ]
  },
  {
   "cell_type": "markdown",
   "metadata": {
    "id": "vMmOxjlDJ4wn"
   },
   "source": [
    "load_and_split로 pdf 1페이지로 분할하였기 때문에 Parent-document가 pdf 1페이지의 모든 텍스트를 가짐(735)"
   ]
  },
  {
   "cell_type": "code",
   "execution_count": null,
   "metadata": {
    "id": "c-tsDRDSJ4aN"
   },
   "outputs": [],
   "source": []
  },
  {
   "cell_type": "code",
   "execution_count": null,
   "metadata": {
    "id": "jxyLxTCyJ4Xz"
   },
   "outputs": [],
   "source": []
  },
  {
   "cell_type": "markdown",
   "metadata": {
    "id": "bj78djuNJjrO"
   },
   "source": [
    "## 2.1 본문의 Full_chunk가 너무 길때 인용구 추가\n"
   ]
  },
  {
   "cell_type": "markdown",
   "metadata": {
    "id": "VR9hSLAQKS6b"
   },
   "source": [
    "> 위 처럼 Parent-document의 청크가 클 경우엔 child_splitter 뿐만 아니라, parent_splitter도 함께 선언하여 청크 사이즈 조절"
   ]
  },
  {
   "cell_type": "code",
   "execution_count": null,
   "metadata": {
    "id": "nJlG2PHWJENU"
   },
   "outputs": [],
   "source": [
    "# This text splitter is used to create the parent documents\n",
    "parent_splitter = RecursiveCharacterTextSplitter(chunk_size=450)\n",
    "# This text splitter is used to create the child documents\n",
    "# It should create documents smaller than the parent\n",
    "child_splitter = RecursiveCharacterTextSplitter(chunk_size=150)\n",
    "# The vectorstore to use to index the child chunks\n",
    "vectorstore = Chroma(\n",
    "    collection_name=\"split_parents\", embedding_function=ko_embedding\n",
    ")\n",
    "# The storage layer for the parent documents\n",
    "store = InMemoryStore()"
   ]
  },
  {
   "cell_type": "code",
   "execution_count": 41,
   "metadata": {
    "executionInfo": {
     "elapsed": 3,
     "status": "ok",
     "timestamp": 1746109028770,
     "user": {
      "displayName": "전재현",
      "userId": "04568438156059612071"
     },
     "user_tz": -540
    },
    "id": "xitplfAeJZDo"
   },
   "outputs": [],
   "source": [
    "retriever = ParentDocumentRetriever(\n",
    "    vectorstore=vectorstore,\n",
    "    docstore=store,\n",
    "    child_splitter=child_splitter,\n",
    "    parent_splitter=parent_splitter,\n",
    ")"
   ]
  },
  {
   "cell_type": "code",
   "execution_count": 42,
   "metadata": {
    "colab": {
     "base_uri": "https://localhost:8080/"
    },
    "executionInfo": {
     "elapsed": 609,
     "status": "ok",
     "timestamp": 1746109029801,
     "user": {
      "displayName": "전재현",
      "userId": "04568438156059612071"
     },
     "user_tz": -540
    },
    "id": "QjVqG21aJ1gq",
    "outputId": "1abb30af-ced5-496e-96ca-eefa0119d241"
   },
   "outputs": [
    {
     "data": {
      "text/plain": [
       "95"
      ]
     },
     "execution_count": 42,
     "metadata": {},
     "output_type": "execute_result"
    }
   ],
   "source": [
    "retriever.add_documents(docs)\n",
    "len(list(store.yield_keys()))"
   ]
  },
  {
   "cell_type": "code",
   "execution_count": 35,
   "metadata": {
    "colab": {
     "base_uri": "https://localhost:8080/"
    },
    "executionInfo": {
     "elapsed": 46,
     "status": "ok",
     "timestamp": 1746108901745,
     "user": {
      "displayName": "전재현",
      "userId": "04568438156059612071"
     },
     "user_tz": -540
    },
    "id": "giDSuX90J2eW",
    "outputId": "95602e77-f3fc-4a86-aaa5-f9a10192463b"
   },
   "outputs": [
    {
     "name": "stdout",
     "output_type": "stream",
     "text": [
      "붙임 2 주요 청년고용정책 사업 개요1. 대학일자리플러스센터□(개요)청년에 가장 가까운 전달체계로 고용정책 홍보·안내및 참여를 지원하는 대학 내 취업 지원 인프라구축     * 전국 121개교 운영(수도권 45개교, 비수도권 76개교)ㅇ 재학·졸업생·지역 청년 대상 취업 상담,취업 지원 프로그램,기업 매칭,지역 청년 특화프로그램 등 제공□주요 내용ㅇ\n",
      "길이 :  196\n"
     ]
    }
   ],
   "source": [
    "sub_docs = vectorstore.similarity_search(\"대학일자리플러스센터 내용\")\n",
    "print(sub_docs[0].page_content)\n",
    "print(\"길이 : \" , len(sub_docs[0].page_content))\n"
   ]
  },
  {
   "cell_type": "code",
   "execution_count": 36,
   "metadata": {
    "colab": {
     "base_uri": "https://localhost:8080/"
    },
    "executionInfo": {
     "elapsed": 74,
     "status": "ok",
     "timestamp": 1746108901820,
     "user": {
      "displayName": "전재현",
      "userId": "04568438156059612071"
     },
     "user_tz": -540
    },
    "id": "C2ILIEBeJ2cI",
    "outputId": "6ee3cba8-a88b-445b-ef99-a3ba0b0be39a"
   },
   "outputs": [
    {
     "name": "stdout",
     "output_type": "stream",
     "text": [
      "- 13 -\n",
      "붙임 2 주요 청년고용정책 사업 개요1. 대학일자리플러스센터□(개요)청년에 가장 가까운 전달체계로 고용정책 홍보·안내및 참여를 지원하는 대학 내 취업 지원 인프라구축     * 전국 121개교 운영(수도권 45개교, 비수도권 76개교)ㅇ 재학·졸업생·지역 청년 대상 취업 상담,취업 지원 프로그램,기업 매칭,지역 청년 특화프로그램 등 제공□주요 내용ㅇ (재학생 맞춤형 고용서비스)1:1상담을 기반으로 저학년은 직업·진로 탐색과 설계,고학년은 취업활동계획 수립 및 훈련·일경험 연계 등 취업역량 향상 지원대  상 재학생 맞춤형 고용서비스 저학년 중심빌 드 업프 로 젝 트▪ 개인별 직업지도 및 진로탐색 역량제고 지원   * AI 기반 직업정보 제공, 1:1 심층상담 및 단기 일경험 등 지원  고학년 중심점 프 업 프 로 젝 트▪자기주도형(역량高): 취업스킬 향상 프로그램 지원 ▪서비스참여형(역량低): 훈련ㆍ일경험 기회 연계 -(운영현황)'24년 전국 53개교*대학일자리플러스센터에서 운영     * ▴(대학 종류별) 일반대학 47개교, 전문대학 6개교 ▴(지역별) 수도권 21개교, 비수도권 32개교ㅇ (고교생 맞춤형 고용서비스)직업계고 등 고교생 대상으로 진로탐색·설계,취업활동계획 수립,특화 취업프로그램 운영,기업 탐방,매칭 지원 등     * 20개교(직업계고 160여개 서비스) 운영 중□(지원 실적)진로·취업 기초 상담 약 130만건,각종 취업지원 프로그램 참여 약 115만건 등('23년)\n",
      "길이 :  735\n"
     ]
    }
   ],
   "source": [
    "retrieved_docs = retriever.get_relevant_documents(\"대학일자리플러스센터 내용\")\n",
    "print(retrieved_docs[0].page_content)\n",
    "print(\"길이 : \" ,len(retrieved_docs[0].page_content))"
   ]
  },
  {
   "cell_type": "code",
   "execution_count": null,
   "metadata": {
    "id": "6nUdIY1LJ2Z4"
   },
   "outputs": [],
   "source": []
  },
  {
   "cell_type": "code",
   "execution_count": null,
   "metadata": {
    "id": "mzEPJqggJ2Ut"
   },
   "outputs": [],
   "source": []
  },
  {
   "cell_type": "markdown",
   "metadata": {
    "id": "UTSpNf_BJmB8"
   },
   "source": [
    "# 3. Self-querying"
   ]
  },
  {
   "cell_type": "markdown",
   "metadata": {
    "id": "tjtV31C7Lwxn"
   },
   "source": [
    "> 사용자의 질문을 자동으로 구조화된 쿼리로 변환하여 문서의 메타데이터 필터링과 함께 검색을 수행하는 방식\n",
    "\n",
    "> 질문을 분석하여 검색어와 메타데이터 필터를 자동으로 생성\n",
    "\n",
    "> **적합한 상황**\n",
    "- 뉴스, 시장 동향, 기술 트렌드 등 시의성이 중요한 도메인\n",
    "- 정보의 최신성이 중요한 분야\n",
    "- 시간에 따라 빠르게 변화하는 주제\n",
    "- 예: 최신 제품 정보, 주식 시장 분석, 코로나 관련 최신 지침"
   ]
  },
  {
   "cell_type": "code",
   "execution_count": 37,
   "metadata": {
    "colab": {
     "base_uri": "https://localhost:8080/"
    },
    "executionInfo": {
     "elapsed": 2219,
     "status": "ok",
     "timestamp": 1746108904058,
     "user": {
      "displayName": "전재현",
      "userId": "04568438156059612071"
     },
     "user_tz": -540
    },
    "id": "1Wxyezy8JZBb",
    "outputId": "e806ea99-7a33-4138-ef85-25a4b54ef65c"
   },
   "outputs": [
    {
     "name": "stdout",
     "output_type": "stream",
     "text": [
      "Collecting lark\n",
      "  Downloading lark-1.2.2-py3-none-any.whl.metadata (1.8 kB)\n",
      "Downloading lark-1.2.2-py3-none-any.whl (111 kB)\n",
      "\u001b[?25l   \u001b[90m━━━━━━━━━━━━━━━━━━━━━━━━━━━━━━━━━━━━━━━━\u001b[0m \u001b[32m0.0/111.0 kB\u001b[0m \u001b[31m?\u001b[0m eta \u001b[36m-:--:--\u001b[0m\r\u001b[2K   \u001b[90m━━━━━━━━━━━━━━━━━━━━━━━━━━━━━━━━━━━━━━━━\u001b[0m \u001b[32m111.0/111.0 kB\u001b[0m \u001b[31m3.8 MB/s\u001b[0m eta \u001b[36m0:00:00\u001b[0m\n",
      "\u001b[?25hInstalling collected packages: lark\n",
      "Successfully installed lark-1.2.2\n"
     ]
    }
   ],
   "source": [
    "pip install lark"
   ]
  },
  {
   "cell_type": "code",
   "execution_count": 5,
   "metadata": {
    "executionInfo": {
     "elapsed": 1252,
     "status": "ok",
     "timestamp": 1746109172685,
     "user": {
      "displayName": "전재현",
      "userId": "04568438156059612071"
     },
     "user_tz": -540
    },
    "id": "VjK6U3lBJY_E"
   },
   "outputs": [],
   "source": [
    "from langchain.schema import Document\n",
    "from langchain_community.vectorstores import Chroma\n",
    "\n",
    "docs = [\n",
    "    Document(\n",
    "        page_content=\"A bunch of scientists bring back dinosaurs and mayhem breaks loose\",\n",
    "        metadata={\"year\": 1993, \"rating\": 7.7, \"genre\": \"science fiction\"},\n",
    "    ),\n",
    "    Document(\n",
    "        page_content=\"Leo DiCaprio gets lost in a dream within a dream within a dream within a ...\",\n",
    "        metadata={\"year\": 2010, \"director\": \"Christopher Nolan\", \"rating\": 8.2},\n",
    "    ),\n",
    "    Document(\n",
    "        page_content=\"A psychologist / detective gets lost in a series of dreams within dreams within dreams and Inception reused the idea\",\n",
    "        metadata={\"year\": 2006, \"director\": \"Satoshi Kon\", \"rating\": 8.6},\n",
    "    ),\n",
    "    Document(\n",
    "        page_content=\"A bunch of normal-sized women are supremely wholesome and some men pine after them\",\n",
    "        metadata={\"year\": 2019, \"director\": \"Greta Gerwig\", \"rating\": 8.3},\n",
    "    ),\n",
    "    Document(\n",
    "        page_content=\"Toys come alive and have a blast doing so\",\n",
    "        metadata={\"year\": 1995, \"genre\": \"animated\"},\n",
    "    ),\n",
    "    Document(\n",
    "        page_content=\"Three men walk into the Zone, three men walk out of the Zone\",\n",
    "        metadata={\n",
    "            \"year\": 1979,\n",
    "            \"director\": \"Andrei Tarkovsky\",\n",
    "            \"genre\": \"thriller\",\n",
    "            \"rating\": 9.9,\n",
    "        },\n",
    "    ),\n",
    "]\n",
    "vectorstore = Chroma.from_documents(docs, ko_embedding)"
   ]
  },
  {
   "cell_type": "code",
   "execution_count": 9,
   "metadata": {
    "executionInfo": {
     "elapsed": 192,
     "status": "ok",
     "timestamp": 1746109196014,
     "user": {
      "displayName": "전재현",
      "userId": "04568438156059612071"
     },
     "user_tz": -540
    },
    "id": "6omdlWp4JY8l"
   },
   "outputs": [],
   "source": [
    "from langchain.chains.query_constructor.base import AttributeInfo\n",
    "from langchain.retrievers.self_query.base import SelfQueryRetriever\n",
    "from langchain.chat_models import ChatOpenAI\n",
    "\n",
    "metadata_field_info = [\n",
    "    AttributeInfo(\n",
    "        name=\"genre\",\n",
    "        description=\"The genre of the movie. One of ['science fiction', 'comedy', 'drama', 'thriller', 'romance', 'action', 'animated']\",\n",
    "        type=\"string\",\n",
    "    ),\n",
    "    AttributeInfo(\n",
    "        name=\"year\",\n",
    "        description=\"The year the movie was released\",\n",
    "        type=\"integer\",\n",
    "    ),\n",
    "    AttributeInfo(\n",
    "        name=\"director\",\n",
    "        description=\"The name of the movie director\",\n",
    "        type=\"string\",\n",
    "    ),\n",
    "    AttributeInfo(\n",
    "        name=\"rating\", description=\"A 1-10 rating for the movie\", type=\"float\"\n",
    "    ),\n",
    "]\n",
    "document_content_description = \"Brief summary of a movie\"\n",
    "llm = ChatOpenAI(temperature=0, openai_api_key = openai_api_key)\n",
    "retriever = SelfQueryRetriever.from_llm(\n",
    "    llm,\n",
    "    vectorstore,\n",
    "    document_content_description,\n",
    "    metadata_field_info,\n",
    "    verbose = True\n",
    ")"
   ]
  },
  {
   "cell_type": "code",
   "execution_count": 10,
   "metadata": {
    "colab": {
     "base_uri": "https://localhost:8080/"
    },
    "executionInfo": {
     "elapsed": 1101,
     "status": "ok",
     "timestamp": 1746109198227,
     "user": {
      "displayName": "전재현",
      "userId": "04568438156059612071"
     },
     "user_tz": -540
    },
    "id": "4qc7ZP1iLbcz",
    "outputId": "46c6c210-f61a-4783-a8f8-d18a3665e225"
   },
   "outputs": [
    {
     "data": {
      "text/plain": [
       "[Document(metadata={'genre': 'thriller', 'director': 'Andrei Tarkovsky', 'year': 1979, 'rating': 9.9}, page_content='Three men walk into the Zone, three men walk out of the Zone'),\n",
       " Document(metadata={'year': 2006, 'director': 'Satoshi Kon', 'rating': 8.6}, page_content='A psychologist / detective gets lost in a series of dreams within dreams within dreams and Inception reused the idea')]"
      ]
     },
     "execution_count": 10,
     "metadata": {},
     "output_type": "execute_result"
    }
   ],
   "source": [
    "retriever.get_relevant_documents(\"what are some movies rated higher than 8.5\")"
   ]
  },
  {
   "cell_type": "code",
   "execution_count": null,
   "metadata": {
    "id": "5hveU74JMPFB"
   },
   "outputs": [],
   "source": []
  },
  {
   "cell_type": "code",
   "execution_count": null,
   "metadata": {
    "id": "8iwHIoWKMO91"
   },
   "outputs": [],
   "source": []
  },
  {
   "cell_type": "markdown",
   "metadata": {
    "id": "Jtdvu69ZLby2"
   },
   "source": [
    "# 4. Time-weighted vector store Retriever"
   ]
  },
  {
   "cell_type": "markdown",
   "metadata": {
    "id": "-9N7uWmPOd_q"
   },
   "source": [
    "> 문서의 시간적 특성을 고려하여 검색 결과의 관련성에 가중치를 부여하는 방식\n",
    "\n",
    "> 문서의 생성 시간, 업데이트 시간 등을 고려하여 검색 결과의 순위를 조정 (시간이 지난만큼 패널티를 부여)\n",
    "\n",
    "> **적합한 상황**\n",
    "- 뉴스, 시장 동향, 기술 트렌드 등 시의성이 중요한 도메인\n",
    "- 정보의 최신성이 중요한 분야\n",
    "- 시간에 따라 빠르게 변화하는 주제\n",
    "- 예: 최신 제품 정보, 주식 시장 분석, 코로나 관련 최신 지침"
   ]
  },
  {
   "cell_type": "code",
   "execution_count": null,
   "metadata": {
    "id": "2j77BXRtJY6G"
   },
   "outputs": [],
   "source": [
    "!pip install faiss-cpu\n",
    "!pip install faiss-gpu"
   ]
  },
  {
   "cell_type": "code",
   "execution_count": 16,
   "metadata": {
    "executionInfo": {
     "elapsed": 64,
     "status": "ok",
     "timestamp": 1746109541399,
     "user": {
      "displayName": "전재현",
      "userId": "04568438156059612071"
     },
     "user_tz": -540
    },
    "id": "7KrOf1ccJY3q"
   },
   "outputs": [],
   "source": [
    "from datetime import datetime, timedelta\n",
    "import faiss\n",
    "from langchain.docstore import InMemoryDocstore\n",
    "from langchain.retrievers import TimeWeightedVectorStoreRetriever\n",
    "from langchain.schema import Document\n",
    "from langchain_community.vectorstores import FAISS"
   ]
  },
  {
   "cell_type": "code",
   "execution_count": 26,
   "metadata": {
    "colab": {
     "base_uri": "https://localhost:8080/"
    },
    "executionInfo": {
     "elapsed": 201,
     "status": "ok",
     "timestamp": 1746109920998,
     "user": {
      "displayName": "전재현",
      "userId": "04568438156059612071"
     },
     "user_tz": -540
    },
    "id": "uoksnoLALiQT",
    "outputId": "9bc75ec8-70ec-4fe5-e36f-9297d98cc5eb"
   },
   "outputs": [
    {
     "name": "stderr",
     "output_type": "stream",
     "text": [
      "/usr/local/lib/python3.11/dist-packages/langchain/retrievers/time_weighted_retriever.py:83: UserWarning: Relevance scores must be between 0 and 1, got [(Document(id='b1e487de-d5ed-424e-8cce-7c233f9b6a53', metadata={'last_accessed_at': datetime.datetime(2025, 4, 30, 14, 32, 0, 327609), 'created_at': datetime.datetime(2025, 5, 1, 14, 32, 0, 327667), 'buffer_idx': 0}, page_content='근로자의 날 최고!'), np.float32(0.39889753)), (Document(id='b8ce2790-d3c0-4737-a5ea-8be544347888', metadata={'last_accessed_at': datetime.datetime(2025, 5, 1, 14, 32, 0, 393786), 'created_at': datetime.datetime(2025, 5, 1, 14, 32, 0, 393786), 'buffer_idx': 1}, page_content='더 많은 휴일이 필요합니다'), np.float32(-0.10912967))]\n",
      "  docs_and_scores = self.vectorstore.similarity_search_with_relevance_scores(\n"
     ]
    },
    {
     "data": {
      "text/plain": [
       "[Document(metadata={'last_accessed_at': datetime.datetime(2025, 5, 1, 14, 32, 0, 526789), 'created_at': datetime.datetime(2025, 5, 1, 14, 32, 0, 327667), 'buffer_idx': 0}, page_content='근로자의 날 최고!')]"
      ]
     },
     "execution_count": 26,
     "metadata": {},
     "output_type": "execute_result"
    }
   ],
   "source": [
    "# 시간가중치(decay_rate)에 따른 답변 차이\n",
    "# decay_rate에 = 0.01\n",
    "embedding_size = 768 ### 이때 임베딩 모델의 임베딩 사이즈에 따라 다르게 설정 !!\n",
    "index = faiss.IndexFlatL2(embedding_size)\n",
    "vectorstore = FAISS(ko_embedding, index, InMemoryDocstore({}), {})\n",
    "\n",
    "retriever = TimeWeightedVectorStoreRetriever(\n",
    "    vectorstore=vectorstore, decay_rate=0.01, k=1\n",
    ")\n",
    "\n",
    "# 시간 가중치를 확인하기 위한 데이터 생성\n",
    "yesterday = datetime.now() - timedelta(days=1)\n",
    "retriever.add_documents(\n",
    "    [Document(page_content=\"근로자의 날 최고!\", metadata={\"last_accessed_at\": yesterday})]\n",
    ")\n",
    "retriever.add_documents([Document(page_content=\"더 많은 휴일이 필요합니다\")])\n",
    "\n",
    "retriever.get_relevant_documents(\"나는 근로자입니다\")"
   ]
  },
  {
   "cell_type": "code",
   "execution_count": 27,
   "metadata": {
    "colab": {
     "base_uri": "https://localhost:8080/"
    },
    "executionInfo": {
     "elapsed": 227,
     "status": "ok",
     "timestamp": 1746109935719,
     "user": {
      "displayName": "전재현",
      "userId": "04568438156059612071"
     },
     "user_tz": -540
    },
    "id": "8B8MqeCILiN-",
    "outputId": "62dfa8ab-a50a-4083-e2b1-05ea2520d60e"
   },
   "outputs": [
    {
     "name": "stderr",
     "output_type": "stream",
     "text": [
      "/usr/local/lib/python3.11/dist-packages/langchain/retrievers/time_weighted_retriever.py:83: UserWarning: Relevance scores must be between 0 and 1, got [(Document(id='a07663b7-7201-4542-adc5-39a903ecd4bf', metadata={'last_accessed_at': datetime.datetime(2025, 4, 30, 14, 32, 15, 10075), 'created_at': datetime.datetime(2025, 5, 1, 14, 32, 15, 10271), 'buffer_idx': 0}, page_content='근로자의 날 최고!'), np.float32(0.39889753)), (Document(id='0e3ca2b3-1f02-41db-b470-7e4a67f17c1d', metadata={'last_accessed_at': datetime.datetime(2025, 5, 1, 14, 32, 15, 93968), 'created_at': datetime.datetime(2025, 5, 1, 14, 32, 15, 93968), 'buffer_idx': 1}, page_content='더 많은 휴일이 필요합니다'), np.float32(-0.10912967))]\n",
      "  docs_and_scores = self.vectorstore.similarity_search_with_relevance_scores(\n"
     ]
    },
    {
     "data": {
      "text/plain": [
       "[Document(metadata={'last_accessed_at': datetime.datetime(2025, 5, 1, 14, 32, 15, 247749), 'created_at': datetime.datetime(2025, 5, 1, 14, 32, 15, 93968), 'buffer_idx': 1}, page_content='더 많은 휴일이 필요합니다')]"
      ]
     },
     "execution_count": 27,
     "metadata": {},
     "output_type": "execute_result"
    }
   ],
   "source": [
    "# 시간가중치(decay_rate)에 따른 답변 차이\n",
    "# decay_rate에 = 0.99\n",
    "embedding_size = 768 ### 이때 임베딩 모델의 임베딩 사이즈에 따라 다르게 설정 !!\n",
    "index = faiss.IndexFlatL2(embedding_size)\n",
    "vectorstore = FAISS(ko_embedding, index, InMemoryDocstore({}), {})\n",
    "\n",
    "retriever = TimeWeightedVectorStoreRetriever(\n",
    "    vectorstore=vectorstore, decay_rate=0.99, k=1\n",
    ")\n",
    "\n",
    "# 시간 가중치를 확인하기 위한 데이터 생성\n",
    "yesterday = datetime.now() - timedelta(days=1)\n",
    "retriever.add_documents(\n",
    "    [Document(page_content=\"근로자의 날 최고!\", metadata={\"last_accessed_at\": yesterday})]\n",
    ")\n",
    "retriever.add_documents([Document(page_content=\"더 많은 휴일이 필요합니다\")])\n",
    "\n",
    "retriever.get_relevant_documents(\"나는 근로자입니다\")"
   ]
  },
  {
   "cell_type": "markdown",
   "metadata": {
    "id": "Eti9906QQ0Vb"
   },
   "source": [
    "decay_rate이 높을수록 최신의 문서를 더 많이 참고함"
   ]
  },
  {
   "cell_type": "code",
   "execution_count": null,
   "metadata": {
    "id": "nvuA6Z_5LiLZ"
   },
   "outputs": [],
   "source": []
  },
  {
   "cell_type": "code",
   "execution_count": null,
   "metadata": {
    "id": "HfXIrFUiQSLO"
   },
   "outputs": [],
   "source": []
  },
  {
   "cell_type": "code",
   "execution_count": null,
   "metadata": {
    "id": "ofa5VM1eQSIf"
   },
   "outputs": [],
   "source": []
  },
  {
   "cell_type": "markdown",
   "metadata": {
    "id": "iIfJkt89Ljc_"
   },
   "source": [
    "# 5. Ensemble Retriever"
   ]
  },
  {
   "cell_type": "markdown",
   "metadata": {
    "id": "eQGM_nD1OEvD"
   },
   "source": [
    "![image.png](data:image/png;base64,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)"
   ]
  },
  {
   "cell_type": "code",
   "execution_count": null,
   "metadata": {
    "id": "S3AgyJ_TLkFy"
   },
   "outputs": [],
   "source": []
  }
 ],
 "metadata": {
  "colab": {
   "authorship_tag": "ABX9TyNoYH2xAmtL3psuoZ5PTz9I",
   "mount_file_id": "1C7PCCIqksSHUx0YvupRdaxYWm5pTEewl",
   "provenance": []
  },
  "kernelspec": {
   "display_name": "Python 3",
   "name": "python3"
  },
  "language_info": {
   "name": "python"
  },
  "widgets": {
   "application/vnd.jupyter.widget-state+json": {
    "024c6c0c8efa4f098829507139fc1d4c": {
     "model_module": "@jupyter-widgets/controls",
     "model_module_version": "1.5.0",
     "model_name": "ProgressStyleModel",
     "state": {
      "_model_module": "@jupyter-widgets/controls",
      "_model_module_version": "1.5.0",
      "_model_name": "ProgressStyleModel",
      "_view_count": null,
      "_view_module": "@jupyter-widgets/base",
      "_view_module_version": "1.2.0",
      "_view_name": "StyleView",
      "bar_color": null,
      "description_width": ""
     }
    },
    "03ad88b55bb3461c81ad43ae98510389": {
     "model_module": "@jupyter-widgets/controls",
     "model_module_version": "1.5.0",
     "model_name": "HTMLModel",
     "state": {
      "_dom_classes": [],
      "_model_module": "@jupyter-widgets/controls",
      "_model_module_version": "1.5.0",
      "_model_name": "HTMLModel",
      "_view_count": null,
      "_view_module": "@jupyter-widgets/controls",
      "_view_module_version": "1.5.0",
      "_view_name": "HTMLView",
      "description": "",
      "description_tooltip": null,
      "layout": "IPY_MODEL_813f75c6f8f2430bb72a04cdf56ae8ca",
      "placeholder": "​",
      "style": "IPY_MODEL_e8245503f2c841dca94ecc6c9098d356",
      "value": " 248k/248k [00:00&lt;00:00, 3.31MB/s]"
     }
    },
    "03f48ebffd6e466abe0016f8a6f48da5": {
     "model_module": "@jupyter-widgets/controls",
     "model_module_version": "1.5.0",
     "model_name": "DescriptionStyleModel",
     "state": {
      "_model_module": "@jupyter-widgets/controls",
      "_model_module_version": "1.5.0",
      "_model_name": "DescriptionStyleModel",
      "_view_count": null,
      "_view_module": "@jupyter-widgets/base",
      "_view_module_version": "1.2.0",
      "_view_name": "StyleView",
      "description_width": ""
     }
    },
    "040fa0b38b0f4c528644e0edf08f57f5": {
     "model_module": "@jupyter-widgets/base",
     "model_module_version": "1.2.0",
     "model_name": "LayoutModel",
     "state": {
      "_model_module": "@jupyter-widgets/base",
      "_model_module_version": "1.2.0",
      "_model_name": "LayoutModel",
      "_view_count": null,
      "_view_module": "@jupyter-widgets/base",
      "_view_module_version": "1.2.0",
      "_view_name": "LayoutView",
      "align_content": null,
      "align_items": null,
      "align_self": null,
      "border": null,
      "bottom": null,
      "display": null,
      "flex": null,
      "flex_flow": null,
      "grid_area": null,
      "grid_auto_columns": null,
      "grid_auto_flow": null,
      "grid_auto_rows": null,
      "grid_column": null,
      "grid_gap": null,
      "grid_row": null,
      "grid_template_areas": null,
      "grid_template_columns": null,
      "grid_template_rows": null,
      "height": null,
      "justify_content": null,
      "justify_items": null,
      "left": null,
      "margin": null,
      "max_height": null,
      "max_width": null,
      "min_height": null,
      "min_width": null,
      "object_fit": null,
      "object_position": null,
      "order": null,
      "overflow": null,
      "overflow_x": null,
      "overflow_y": null,
      "padding": null,
      "right": null,
      "top": null,
      "visibility": null,
      "width": null
     }
    },
    "04c5335b70ee4e249ee18518be9a389f": {
     "model_module": "@jupyter-widgets/controls",
     "model_module_version": "1.5.0",
     "model_name": "FloatProgressModel",
     "state": {
      "_dom_classes": [],
      "_model_module": "@jupyter-widgets/controls",
      "_model_module_version": "1.5.0",
      "_model_name": "FloatProgressModel",
      "_view_count": null,
      "_view_module": "@jupyter-widgets/controls",
      "_view_module_version": "1.5.0",
      "_view_name": "ProgressView",
      "bar_style": "success",
      "description": "",
      "description_tooltip": null,
      "layout": "IPY_MODEL_5c8e5b3a7a084eb9a3abfbaef5ea6b5b",
      "max": 495027,
      "min": 0,
      "orientation": "horizontal",
      "style": "IPY_MODEL_816f31f7f834476fa45d1667185e8f74",
      "value": 495027
     }
    },
    "0635e7c8e84b4575a4d066c4cd1510c2": {
     "model_module": "@jupyter-widgets/controls",
     "model_module_version": "1.5.0",
     "model_name": "HTMLModel",
     "state": {
      "_dom_classes": [],
      "_model_module": "@jupyter-widgets/controls",
      "_model_module_version": "1.5.0",
      "_model_name": "HTMLModel",
      "_view_count": null,
      "_view_module": "@jupyter-widgets/controls",
      "_view_module_version": "1.5.0",
      "_view_name": "HTMLView",
      "description": "",
      "description_tooltip": null,
      "layout": "IPY_MODEL_c995156f67254dd4a15e9ab6c95f7f6d",
      "placeholder": "​",
      "style": "IPY_MODEL_6061d51eb175402e9b9b02fa4be2638f",
      "value": " 620/620 [00:00&lt;00:00, 68.9kB/s]"
     }
    },
    "085e25027ce5436a83debcf0e959cd0b": {
     "model_module": "@jupyter-widgets/base",
     "model_module_version": "1.2.0",
     "model_name": "LayoutModel",
     "state": {
      "_model_module": "@jupyter-widgets/base",
      "_model_module_version": "1.2.0",
      "_model_name": "LayoutModel",
      "_view_count": null,
      "_view_module": "@jupyter-widgets/base",
      "_view_module_version": "1.2.0",
      "_view_name": "LayoutView",
      "align_content": null,
      "align_items": null,
      "align_self": null,
      "border": null,
      "bottom": null,
      "display": null,
      "flex": null,
      "flex_flow": null,
      "grid_area": null,
      "grid_auto_columns": null,
      "grid_auto_flow": null,
      "grid_auto_rows": null,
      "grid_column": null,
      "grid_gap": null,
      "grid_row": null,
      "grid_template_areas": null,
      "grid_template_columns": null,
      "grid_template_rows": null,
      "height": null,
      "justify_content": null,
      "justify_items": null,
      "left": null,
      "margin": null,
      "max_height": null,
      "max_width": null,
      "min_height": null,
      "min_width": null,
      "object_fit": null,
      "object_position": null,
      "order": null,
      "overflow": null,
      "overflow_x": null,
      "overflow_y": null,
      "padding": null,
      "right": null,
      "top": null,
      "visibility": null,
      "width": null
     }
    },
    "0aa1d150aef0496284cc456e1f5eadcc": {
     "model_module": "@jupyter-widgets/base",
     "model_module_version": "1.2.0",
     "model_name": "LayoutModel",
     "state": {
      "_model_module": "@jupyter-widgets/base",
      "_model_module_version": "1.2.0",
      "_model_name": "LayoutModel",
      "_view_count": null,
      "_view_module": "@jupyter-widgets/base",
      "_view_module_version": "1.2.0",
      "_view_name": "LayoutView",
      "align_content": null,
      "align_items": null,
      "align_self": null,
      "border": null,
      "bottom": null,
      "display": null,
      "flex": null,
      "flex_flow": null,
      "grid_area": null,
      "grid_auto_columns": null,
      "grid_auto_flow": null,
      "grid_auto_rows": null,
      "grid_column": null,
      "grid_gap": null,
      "grid_row": null,
      "grid_template_areas": null,
      "grid_template_columns": null,
      "grid_template_rows": null,
      "height": null,
      "justify_content": null,
      "justify_items": null,
      "left": null,
      "margin": null,
      "max_height": null,
      "max_width": null,
      "min_height": null,
      "min_width": null,
      "object_fit": null,
      "object_position": null,
      "order": null,
      "overflow": null,
      "overflow_x": null,
      "overflow_y": null,
      "padding": null,
      "right": null,
      "top": null,
      "visibility": null,
      "width": null
     }
    },
    "0b8ce4dd1b9d46849839a1ce3de4de2a": {
     "model_module": "@jupyter-widgets/controls",
     "model_module_version": "1.5.0",
     "model_name": "FloatProgressModel",
     "state": {
      "_dom_classes": [],
      "_model_module": "@jupyter-widgets/controls",
      "_model_module_version": "1.5.0",
      "_model_name": "FloatProgressModel",
      "_view_count": null,
      "_view_module": "@jupyter-widgets/controls",
      "_view_module_version": "1.5.0",
      "_view_name": "ProgressView",
      "bar_style": "success",
      "description": "",
      "description_tooltip": null,
      "layout": "IPY_MODEL_8c8cc64844e1443f91333d19a7b1f56c",
      "max": 442555895,
      "min": 0,
      "orientation": "horizontal",
      "style": "IPY_MODEL_024c6c0c8efa4f098829507139fc1d4c",
      "value": 442555895
     }
    },
    "113582617b844defbe82e1136e79c131": {
     "model_module": "@jupyter-widgets/controls",
     "model_module_version": "1.5.0",
     "model_name": "DescriptionStyleModel",
     "state": {
      "_model_module": "@jupyter-widgets/controls",
      "_model_module_version": "1.5.0",
      "_model_name": "DescriptionStyleModel",
      "_view_count": null,
      "_view_module": "@jupyter-widgets/base",
      "_view_module_version": "1.2.0",
      "_view_name": "StyleView",
      "description_width": ""
     }
    },
    "123324c61e164a24b2bf90cd32d1faa0": {
     "model_module": "@jupyter-widgets/base",
     "model_module_version": "1.2.0",
     "model_name": "LayoutModel",
     "state": {
      "_model_module": "@jupyter-widgets/base",
      "_model_module_version": "1.2.0",
      "_model_name": "LayoutModel",
      "_view_count": null,
      "_view_module": "@jupyter-widgets/base",
      "_view_module_version": "1.2.0",
      "_view_name": "LayoutView",
      "align_content": null,
      "align_items": null,
      "align_self": null,
      "border": null,
      "bottom": null,
      "display": null,
      "flex": null,
      "flex_flow": null,
      "grid_area": null,
      "grid_auto_columns": null,
      "grid_auto_flow": null,
      "grid_auto_rows": null,
      "grid_column": null,
      "grid_gap": null,
      "grid_row": null,
      "grid_template_areas": null,
      "grid_template_columns": null,
      "grid_template_rows": null,
      "height": null,
      "justify_content": null,
      "justify_items": null,
      "left": null,
      "margin": null,
      "max_height": null,
      "max_width": null,
      "min_height": null,
      "min_width": null,
      "object_fit": null,
      "object_position": null,
      "order": null,
      "overflow": null,
      "overflow_x": null,
      "overflow_y": null,
      "padding": null,
      "right": null,
      "top": null,
      "visibility": null,
      "width": null
     }
    },
    "1309cf188b4546ef99e6bc631a167107": {
     "model_module": "@jupyter-widgets/controls",
     "model_module_version": "1.5.0",
     "model_name": "DescriptionStyleModel",
     "state": {
      "_model_module": "@jupyter-widgets/controls",
      "_model_module_version": "1.5.0",
      "_model_name": "DescriptionStyleModel",
      "_view_count": null,
      "_view_module": "@jupyter-widgets/base",
      "_view_module_version": "1.2.0",
      "_view_name": "StyleView",
      "description_width": ""
     }
    },
    "1417a3371f7d4929a2f08cbf3a23615d": {
     "model_module": "@jupyter-widgets/base",
     "model_module_version": "1.2.0",
     "model_name": "LayoutModel",
     "state": {
      "_model_module": "@jupyter-widgets/base",
      "_model_module_version": "1.2.0",
      "_model_name": "LayoutModel",
      "_view_count": null,
      "_view_module": "@jupyter-widgets/base",
      "_view_module_version": "1.2.0",
      "_view_name": "LayoutView",
      "align_content": null,
      "align_items": null,
      "align_self": null,
      "border": null,
      "bottom": null,
      "display": null,
      "flex": null,
      "flex_flow": null,
      "grid_area": null,
      "grid_auto_columns": null,
      "grid_auto_flow": null,
      "grid_auto_rows": null,
      "grid_column": null,
      "grid_gap": null,
      "grid_row": null,
      "grid_template_areas": null,
      "grid_template_columns": null,
      "grid_template_rows": null,
      "height": null,
      "justify_content": null,
      "justify_items": null,
      "left": null,
      "margin": null,
      "max_height": null,
      "max_width": null,
      "min_height": null,
      "min_width": null,
      "object_fit": null,
      "object_position": null,
      "order": null,
      "overflow": null,
      "overflow_x": null,
      "overflow_y": null,
      "padding": null,
      "right": null,
      "top": null,
      "visibility": null,
      "width": null
     }
    },
    "145372b0a1fb43d991f51f5e05b61a05": {
     "model_module": "@jupyter-widgets/controls",
     "model_module_version": "1.5.0",
     "model_name": "HBoxModel",
     "state": {
      "_dom_classes": [],
      "_model_module": "@jupyter-widgets/controls",
      "_model_module_version": "1.5.0",
      "_model_name": "HBoxModel",
      "_view_count": null,
      "_view_module": "@jupyter-widgets/controls",
      "_view_module_version": "1.5.0",
      "_view_name": "HBoxView",
      "box_style": "",
      "children": [
       "IPY_MODEL_a92695350ed748838b59e49e269cf918",
       "IPY_MODEL_1550c308c91f4b8287b6bfae899f6af5",
       "IPY_MODEL_57fa063dc52e4bccb28fb04400f20f49"
      ],
      "layout": "IPY_MODEL_a5b26af304f04493972a80cae76cdb4f"
     }
    },
    "1550c308c91f4b8287b6bfae899f6af5": {
     "model_module": "@jupyter-widgets/controls",
     "model_module_version": "1.5.0",
     "model_name": "FloatProgressModel",
     "state": {
      "_dom_classes": [],
      "_model_module": "@jupyter-widgets/controls",
      "_model_module_version": "1.5.0",
      "_model_name": "FloatProgressModel",
      "_view_count": null,
      "_view_module": "@jupyter-widgets/controls",
      "_view_module_version": "1.5.0",
      "_view_name": "ProgressView",
      "bar_style": "success",
      "description": "",
      "description_tooltip": null,
      "layout": "IPY_MODEL_d62f4cfef27c474988765189835e2142",
      "max": 229,
      "min": 0,
      "orientation": "horizontal",
      "style": "IPY_MODEL_d4caaef39a91471b86e03c6994914f2f",
      "value": 229
     }
    },
    "1710b1a1b1fb46c69c39e329aab0162c": {
     "model_module": "@jupyter-widgets/base",
     "model_module_version": "1.2.0",
     "model_name": "LayoutModel",
     "state": {
      "_model_module": "@jupyter-widgets/base",
      "_model_module_version": "1.2.0",
      "_model_name": "LayoutModel",
      "_view_count": null,
      "_view_module": "@jupyter-widgets/base",
      "_view_module_version": "1.2.0",
      "_view_name": "LayoutView",
      "align_content": null,
      "align_items": null,
      "align_self": null,
      "border": null,
      "bottom": null,
      "display": null,
      "flex": null,
      "flex_flow": null,
      "grid_area": null,
      "grid_auto_columns": null,
      "grid_auto_flow": null,
      "grid_auto_rows": null,
      "grid_column": null,
      "grid_gap": null,
      "grid_row": null,
      "grid_template_areas": null,
      "grid_template_columns": null,
      "grid_template_rows": null,
      "height": null,
      "justify_content": null,
      "justify_items": null,
      "left": null,
      "margin": null,
      "max_height": null,
      "max_width": null,
      "min_height": null,
      "min_width": null,
      "object_fit": null,
      "object_position": null,
      "order": null,
      "overflow": null,
      "overflow_x": null,
      "overflow_y": null,
      "padding": null,
      "right": null,
      "top": null,
      "visibility": null,
      "width": null
     }
    },
    "17182a9146cb41e19ce54e88b1fa654e": {
     "model_module": "@jupyter-widgets/controls",
     "model_module_version": "1.5.0",
     "model_name": "DescriptionStyleModel",
     "state": {
      "_model_module": "@jupyter-widgets/controls",
      "_model_module_version": "1.5.0",
      "_model_name": "DescriptionStyleModel",
      "_view_count": null,
      "_view_module": "@jupyter-widgets/base",
      "_view_module_version": "1.2.0",
      "_view_name": "StyleView",
      "description_width": ""
     }
    },
    "1c8b44e34baf42a5807ceda38e0371ea": {
     "model_module": "@jupyter-widgets/controls",
     "model_module_version": "1.5.0",
     "model_name": "DescriptionStyleModel",
     "state": {
      "_model_module": "@jupyter-widgets/controls",
      "_model_module_version": "1.5.0",
      "_model_name": "DescriptionStyleModel",
      "_view_count": null,
      "_view_module": "@jupyter-widgets/base",
      "_view_module_version": "1.2.0",
      "_view_name": "StyleView",
      "description_width": ""
     }
    },
    "1cc9b266ddf24ab0851f2367c67f1789": {
     "model_module": "@jupyter-widgets/controls",
     "model_module_version": "1.5.0",
     "model_name": "DescriptionStyleModel",
     "state": {
      "_model_module": "@jupyter-widgets/controls",
      "_model_module_version": "1.5.0",
      "_model_name": "DescriptionStyleModel",
      "_view_count": null,
      "_view_module": "@jupyter-widgets/base",
      "_view_module_version": "1.2.0",
      "_view_name": "StyleView",
      "description_width": ""
     }
    },
    "1d071b3791e0448aacbe896a575ce475": {
     "model_module": "@jupyter-widgets/controls",
     "model_module_version": "1.5.0",
     "model_name": "DescriptionStyleModel",
     "state": {
      "_model_module": "@jupyter-widgets/controls",
      "_model_module_version": "1.5.0",
      "_model_name": "DescriptionStyleModel",
      "_view_count": null,
      "_view_module": "@jupyter-widgets/base",
      "_view_module_version": "1.2.0",
      "_view_name": "StyleView",
      "description_width": ""
     }
    },
    "1ede0b3bbaea430f981d57e335a01b78": {
     "model_module": "@jupyter-widgets/base",
     "model_module_version": "1.2.0",
     "model_name": "LayoutModel",
     "state": {
      "_model_module": "@jupyter-widgets/base",
      "_model_module_version": "1.2.0",
      "_model_name": "LayoutModel",
      "_view_count": null,
      "_view_module": "@jupyter-widgets/base",
      "_view_module_version": "1.2.0",
      "_view_name": "LayoutView",
      "align_content": null,
      "align_items": null,
      "align_self": null,
      "border": null,
      "bottom": null,
      "display": null,
      "flex": null,
      "flex_flow": null,
      "grid_area": null,
      "grid_auto_columns": null,
      "grid_auto_flow": null,
      "grid_auto_rows": null,
      "grid_column": null,
      "grid_gap": null,
      "grid_row": null,
      "grid_template_areas": null,
      "grid_template_columns": null,
      "grid_template_rows": null,
      "height": null,
      "justify_content": null,
      "justify_items": null,
      "left": null,
      "margin": null,
      "max_height": null,
      "max_width": null,
      "min_height": null,
      "min_width": null,
      "object_fit": null,
      "object_position": null,
      "order": null,
      "overflow": null,
      "overflow_x": null,
      "overflow_y": null,
      "padding": null,
      "right": null,
      "top": null,
      "visibility": null,
      "width": null
     }
    },
    "216fea24e6fb4b9eac6ae7225c160705": {
     "model_module": "@jupyter-widgets/controls",
     "model_module_version": "1.5.0",
     "model_name": "HTMLModel",
     "state": {
      "_dom_classes": [],
      "_model_module": "@jupyter-widgets/controls",
      "_model_module_version": "1.5.0",
      "_model_name": "HTMLModel",
      "_view_count": null,
      "_view_module": "@jupyter-widgets/controls",
      "_view_module_version": "1.5.0",
      "_view_name": "HTMLView",
      "description": "",
      "description_tooltip": null,
      "layout": "IPY_MODEL_1710b1a1b1fb46c69c39e329aab0162c",
      "placeholder": "​",
      "style": "IPY_MODEL_b3a5d9a8eb6445219ed99a60c1e3f553",
      "value": "config.json: 100%"
     }
    },
    "2185fc2a7aa84a0b83e98d20484548c2": {
     "model_module": "@jupyter-widgets/controls",
     "model_module_version": "1.5.0",
     "model_name": "DescriptionStyleModel",
     "state": {
      "_model_module": "@jupyter-widgets/controls",
      "_model_module_version": "1.5.0",
      "_model_name": "DescriptionStyleModel",
      "_view_count": null,
      "_view_module": "@jupyter-widgets/base",
      "_view_module_version": "1.2.0",
      "_view_name": "StyleView",
      "description_width": ""
     }
    },
    "28e73100a95c4f0cb91f43d82d1254f8": {
     "model_module": "@jupyter-widgets/controls",
     "model_module_version": "1.5.0",
     "model_name": "HBoxModel",
     "state": {
      "_dom_classes": [],
      "_model_module": "@jupyter-widgets/controls",
      "_model_module_version": "1.5.0",
      "_model_name": "HBoxModel",
      "_view_count": null,
      "_view_module": "@jupyter-widgets/controls",
      "_view_module_version": "1.5.0",
      "_view_name": "HBoxView",
      "box_style": "",
      "children": [
       "IPY_MODEL_d9abc974b7ba4f65b00ee6c116589fc8",
       "IPY_MODEL_cbd5a535c4c5444e94eb9c575ae9273c",
       "IPY_MODEL_03ad88b55bb3461c81ad43ae98510389"
      ],
      "layout": "IPY_MODEL_d3be270d9be4408183eccb05140366ca"
     }
    },
    "2c2664aaa0c44493b3adcbbd6eecd697": {
     "model_module": "@jupyter-widgets/controls",
     "model_module_version": "1.5.0",
     "model_name": "HTMLModel",
     "state": {
      "_dom_classes": [],
      "_model_module": "@jupyter-widgets/controls",
      "_model_module_version": "1.5.0",
      "_model_name": "HTMLModel",
      "_view_count": null,
      "_view_module": "@jupyter-widgets/controls",
      "_view_module_version": "1.5.0",
      "_view_name": "HTMLView",
      "description": "",
      "description_tooltip": null,
      "layout": "IPY_MODEL_f569244414c547ce8d363959f326fe0d",
      "placeholder": "​",
      "style": "IPY_MODEL_1c8b44e34baf42a5807ceda38e0371ea",
      "value": "model.safetensors: 100%"
     }
    },
    "2f3bb87adcab439393a40375a149b55e": {
     "model_module": "@jupyter-widgets/controls",
     "model_module_version": "1.5.0",
     "model_name": "HBoxModel",
     "state": {
      "_dom_classes": [],
      "_model_module": "@jupyter-widgets/controls",
      "_model_module_version": "1.5.0",
      "_model_name": "HBoxModel",
      "_view_count": null,
      "_view_module": "@jupyter-widgets/controls",
      "_view_module_version": "1.5.0",
      "_view_name": "HBoxView",
      "box_style": "",
      "children": [
       "IPY_MODEL_f972348465d14210a5d5629f2371d540",
       "IPY_MODEL_c7168b007beb4e35a1601dc053a245e2",
       "IPY_MODEL_f1fd8adeeb3741c4857b0092b1eb1312"
      ],
      "layout": "IPY_MODEL_3d8214b48ce74551ab747f29a9390530"
     }
    },
    "3285d82e2f7449cda29b9d98028a0d92": {
     "model_module": "@jupyter-widgets/base",
     "model_module_version": "1.2.0",
     "model_name": "LayoutModel",
     "state": {
      "_model_module": "@jupyter-widgets/base",
      "_model_module_version": "1.2.0",
      "_model_name": "LayoutModel",
      "_view_count": null,
      "_view_module": "@jupyter-widgets/base",
      "_view_module_version": "1.2.0",
      "_view_name": "LayoutView",
      "align_content": null,
      "align_items": null,
      "align_self": null,
      "border": null,
      "bottom": null,
      "display": null,
      "flex": null,
      "flex_flow": null,
      "grid_area": null,
      "grid_auto_columns": null,
      "grid_auto_flow": null,
      "grid_auto_rows": null,
      "grid_column": null,
      "grid_gap": null,
      "grid_row": null,
      "grid_template_areas": null,
      "grid_template_columns": null,
      "grid_template_rows": null,
      "height": null,
      "justify_content": null,
      "justify_items": null,
      "left": null,
      "margin": null,
      "max_height": null,
      "max_width": null,
      "min_height": null,
      "min_width": null,
      "object_fit": null,
      "object_position": null,
      "order": null,
      "overflow": null,
      "overflow_x": null,
      "overflow_y": null,
      "padding": null,
      "right": null,
      "top": null,
      "visibility": null,
      "width": null
     }
    },
    "3923fceb303f4629952ea67c36e3132c": {
     "model_module": "@jupyter-widgets/controls",
     "model_module_version": "1.5.0",
     "model_name": "HTMLModel",
     "state": {
      "_dom_classes": [],
      "_model_module": "@jupyter-widgets/controls",
      "_model_module_version": "1.5.0",
      "_model_name": "HTMLModel",
      "_view_count": null,
      "_view_module": "@jupyter-widgets/controls",
      "_view_module_version": "1.5.0",
      "_view_name": "HTMLView",
      "description": "",
      "description_tooltip": null,
      "layout": "IPY_MODEL_52c0e71a00344ca5b8fb2eda67636e17",
      "placeholder": "​",
      "style": "IPY_MODEL_6306d7abbf904bd59a8f2f8bb5666430",
      "value": "special_tokens_map.json: 100%"
     }
    },
    "3aa4009b79d249a182f6377cb15522d6": {
     "model_module": "@jupyter-widgets/controls",
     "model_module_version": "1.5.0",
     "model_name": "HTMLModel",
     "state": {
      "_dom_classes": [],
      "_model_module": "@jupyter-widgets/controls",
      "_model_module_version": "1.5.0",
      "_model_name": "HTMLModel",
      "_view_count": null,
      "_view_module": "@jupyter-widgets/controls",
      "_view_module_version": "1.5.0",
      "_view_name": "HTMLView",
      "description": "",
      "description_tooltip": null,
      "layout": "IPY_MODEL_3285d82e2f7449cda29b9d98028a0d92",
      "placeholder": "​",
      "style": "IPY_MODEL_3c9c28401d1e4842abd8899c51cb12ba",
      "value": "config_sentence_transformers.json: 100%"
     }
    },
    "3c9c28401d1e4842abd8899c51cb12ba": {
     "model_module": "@jupyter-widgets/controls",
     "model_module_version": "1.5.0",
     "model_name": "DescriptionStyleModel",
     "state": {
      "_model_module": "@jupyter-widgets/controls",
      "_model_module_version": "1.5.0",
      "_model_name": "DescriptionStyleModel",
      "_view_count": null,
      "_view_module": "@jupyter-widgets/base",
      "_view_module_version": "1.2.0",
      "_view_name": "StyleView",
      "description_width": ""
     }
    },
    "3d76aa8a5b8e4cadb2244275fb49f4ec": {
     "model_module": "@jupyter-widgets/controls",
     "model_module_version": "1.5.0",
     "model_name": "FloatProgressModel",
     "state": {
      "_dom_classes": [],
      "_model_module": "@jupyter-widgets/controls",
      "_model_module_version": "1.5.0",
      "_model_name": "FloatProgressModel",
      "_view_count": null,
      "_view_module": "@jupyter-widgets/controls",
      "_view_module_version": "1.5.0",
      "_view_name": "ProgressView",
      "bar_style": "success",
      "description": "",
      "description_tooltip": null,
      "layout": "IPY_MODEL_ff94ef955ba44450a335e86556ea2f79",
      "max": 190,
      "min": 0,
      "orientation": "horizontal",
      "style": "IPY_MODEL_931995c8591046ab86dc2799a9d43995",
      "value": 190
     }
    },
    "3d8214b48ce74551ab747f29a9390530": {
     "model_module": "@jupyter-widgets/base",
     "model_module_version": "1.2.0",
     "model_name": "LayoutModel",
     "state": {
      "_model_module": "@jupyter-widgets/base",
      "_model_module_version": "1.2.0",
      "_model_name": "LayoutModel",
      "_view_count": null,
      "_view_module": "@jupyter-widgets/base",
      "_view_module_version": "1.2.0",
      "_view_name": "LayoutView",
      "align_content": null,
      "align_items": null,
      "align_self": null,
      "border": null,
      "bottom": null,
      "display": null,
      "flex": null,
      "flex_flow": null,
      "grid_area": null,
      "grid_auto_columns": null,
      "grid_auto_flow": null,
      "grid_auto_rows": null,
      "grid_column": null,
      "grid_gap": null,
      "grid_row": null,
      "grid_template_areas": null,
      "grid_template_columns": null,
      "grid_template_rows": null,
      "height": null,
      "justify_content": null,
      "justify_items": null,
      "left": null,
      "margin": null,
      "max_height": null,
      "max_width": null,
      "min_height": null,
      "min_width": null,
      "object_fit": null,
      "object_position": null,
      "order": null,
      "overflow": null,
      "overflow_x": null,
      "overflow_y": null,
      "padding": null,
      "right": null,
      "top": null,
      "visibility": null,
      "width": null
     }
    },
    "40d5cbe69c8540e98bbce4aa03922d11": {
     "model_module": "@jupyter-widgets/base",
     "model_module_version": "1.2.0",
     "model_name": "LayoutModel",
     "state": {
      "_model_module": "@jupyter-widgets/base",
      "_model_module_version": "1.2.0",
      "_model_name": "LayoutModel",
      "_view_count": null,
      "_view_module": "@jupyter-widgets/base",
      "_view_module_version": "1.2.0",
      "_view_name": "LayoutView",
      "align_content": null,
      "align_items": null,
      "align_self": null,
      "border": null,
      "bottom": null,
      "display": null,
      "flex": null,
      "flex_flow": null,
      "grid_area": null,
      "grid_auto_columns": null,
      "grid_auto_flow": null,
      "grid_auto_rows": null,
      "grid_column": null,
      "grid_gap": null,
      "grid_row": null,
      "grid_template_areas": null,
      "grid_template_columns": null,
      "grid_template_rows": null,
      "height": null,
      "justify_content": null,
      "justify_items": null,
      "left": null,
      "margin": null,
      "max_height": null,
      "max_width": null,
      "min_height": null,
      "min_width": null,
      "object_fit": null,
      "object_position": null,
      "order": null,
      "overflow": null,
      "overflow_x": null,
      "overflow_y": null,
      "padding": null,
      "right": null,
      "top": null,
      "visibility": null,
      "width": null
     }
    },
    "43b833df682f4b1a8aac8d04c68a5d14": {
     "model_module": "@jupyter-widgets/controls",
     "model_module_version": "1.5.0",
     "model_name": "DescriptionStyleModel",
     "state": {
      "_model_module": "@jupyter-widgets/controls",
      "_model_module_version": "1.5.0",
      "_model_name": "DescriptionStyleModel",
      "_view_count": null,
      "_view_module": "@jupyter-widgets/base",
      "_view_module_version": "1.2.0",
      "_view_name": "StyleView",
      "description_width": ""
     }
    },
    "45a5e942b4204e1798e2ced0389f2001": {
     "model_module": "@jupyter-widgets/controls",
     "model_module_version": "1.5.0",
     "model_name": "DescriptionStyleModel",
     "state": {
      "_model_module": "@jupyter-widgets/controls",
      "_model_module_version": "1.5.0",
      "_model_name": "DescriptionStyleModel",
      "_view_count": null,
      "_view_module": "@jupyter-widgets/base",
      "_view_module_version": "1.2.0",
      "_view_name": "StyleView",
      "description_width": ""
     }
    },
    "48a732784f5247d3b5780ae357a4842c": {
     "model_module": "@jupyter-widgets/controls",
     "model_module_version": "1.5.0",
     "model_name": "HTMLModel",
     "state": {
      "_dom_classes": [],
      "_model_module": "@jupyter-widgets/controls",
      "_model_module_version": "1.5.0",
      "_model_name": "HTMLModel",
      "_view_count": null,
      "_view_module": "@jupyter-widgets/controls",
      "_view_module_version": "1.5.0",
      "_view_name": "HTMLView",
      "description": "",
      "description_tooltip": null,
      "layout": "IPY_MODEL_085e25027ce5436a83debcf0e959cd0b",
      "placeholder": "​",
      "style": "IPY_MODEL_17182a9146cb41e19ce54e88b1fa654e",
      "value": "tokenizer.json: 100%"
     }
    },
    "494d5b795e414e648298b99e7d407e9a": {
     "model_module": "@jupyter-widgets/base",
     "model_module_version": "1.2.0",
     "model_name": "LayoutModel",
     "state": {
      "_model_module": "@jupyter-widgets/base",
      "_model_module_version": "1.2.0",
      "_model_name": "LayoutModel",
      "_view_count": null,
      "_view_module": "@jupyter-widgets/base",
      "_view_module_version": "1.2.0",
      "_view_name": "LayoutView",
      "align_content": null,
      "align_items": null,
      "align_self": null,
      "border": null,
      "bottom": null,
      "display": null,
      "flex": null,
      "flex_flow": null,
      "grid_area": null,
      "grid_auto_columns": null,
      "grid_auto_flow": null,
      "grid_auto_rows": null,
      "grid_column": null,
      "grid_gap": null,
      "grid_row": null,
      "grid_template_areas": null,
      "grid_template_columns": null,
      "grid_template_rows": null,
      "height": null,
      "justify_content": null,
      "justify_items": null,
      "left": null,
      "margin": null,
      "max_height": null,
      "max_width": null,
      "min_height": null,
      "min_width": null,
      "object_fit": null,
      "object_position": null,
      "order": null,
      "overflow": null,
      "overflow_x": null,
      "overflow_y": null,
      "padding": null,
      "right": null,
      "top": null,
      "visibility": null,
      "width": null
     }
    },
    "4cd2b207675f4fc484a5730d2d32860a": {
     "model_module": "@jupyter-widgets/controls",
     "model_module_version": "1.5.0",
     "model_name": "HBoxModel",
     "state": {
      "_dom_classes": [],
      "_model_module": "@jupyter-widgets/controls",
      "_model_module_version": "1.5.0",
      "_model_name": "HBoxModel",
      "_view_count": null,
      "_view_module": "@jupyter-widgets/controls",
      "_view_module_version": "1.5.0",
      "_view_name": "HBoxView",
      "box_style": "",
      "children": [
       "IPY_MODEL_698a627bf18b44a6ba057f234b86c17e",
       "IPY_MODEL_ae2fe4dc30ab4c07857e9d92a9439563",
       "IPY_MODEL_d56f7db5a9bd4973ab49dcca161a253b"
      ],
      "layout": "IPY_MODEL_7bed791bc02d4892bfc91ce7ec86c9e4"
     }
    },
    "4dc71496d5ff437c97431854c60f05fa": {
     "model_module": "@jupyter-widgets/controls",
     "model_module_version": "1.5.0",
     "model_name": "HBoxModel",
     "state": {
      "_dom_classes": [],
      "_model_module": "@jupyter-widgets/controls",
      "_model_module_version": "1.5.0",
      "_model_name": "HBoxModel",
      "_view_count": null,
      "_view_module": "@jupyter-widgets/controls",
      "_view_module_version": "1.5.0",
      "_view_name": "HBoxView",
      "box_style": "",
      "children": [
       "IPY_MODEL_48a732784f5247d3b5780ae357a4842c",
       "IPY_MODEL_04c5335b70ee4e249ee18518be9a389f",
       "IPY_MODEL_d4e478f8f9fb4a8d824011ecd34d2c23"
      ],
      "layout": "IPY_MODEL_91df9421dbaf4e51bffa64096cd5a5b0"
     }
    },
    "4efc06078225451db9594140332fd610": {
     "model_module": "@jupyter-widgets/controls",
     "model_module_version": "1.5.0",
     "model_name": "ProgressStyleModel",
     "state": {
      "_model_module": "@jupyter-widgets/controls",
      "_model_module_version": "1.5.0",
      "_model_name": "ProgressStyleModel",
      "_view_count": null,
      "_view_module": "@jupyter-widgets/base",
      "_view_module_version": "1.2.0",
      "_view_name": "StyleView",
      "bar_color": null,
      "description_width": ""
     }
    },
    "52c0e71a00344ca5b8fb2eda67636e17": {
     "model_module": "@jupyter-widgets/base",
     "model_module_version": "1.2.0",
     "model_name": "LayoutModel",
     "state": {
      "_model_module": "@jupyter-widgets/base",
      "_model_module_version": "1.2.0",
      "_model_name": "LayoutModel",
      "_view_count": null,
      "_view_module": "@jupyter-widgets/base",
      "_view_module_version": "1.2.0",
      "_view_name": "LayoutView",
      "align_content": null,
      "align_items": null,
      "align_self": null,
      "border": null,
      "bottom": null,
      "display": null,
      "flex": null,
      "flex_flow": null,
      "grid_area": null,
      "grid_auto_columns": null,
      "grid_auto_flow": null,
      "grid_auto_rows": null,
      "grid_column": null,
      "grid_gap": null,
      "grid_row": null,
      "grid_template_areas": null,
      "grid_template_columns": null,
      "grid_template_rows": null,
      "height": null,
      "justify_content": null,
      "justify_items": null,
      "left": null,
      "margin": null,
      "max_height": null,
      "max_width": null,
      "min_height": null,
      "min_width": null,
      "object_fit": null,
      "object_position": null,
      "order": null,
      "overflow": null,
      "overflow_x": null,
      "overflow_y": null,
      "padding": null,
      "right": null,
      "top": null,
      "visibility": null,
      "width": null
     }
    },
    "53e070d8e51940d69b5ee755d5af93ec": {
     "model_module": "@jupyter-widgets/controls",
     "model_module_version": "1.5.0",
     "model_name": "ProgressStyleModel",
     "state": {
      "_model_module": "@jupyter-widgets/controls",
      "_model_module_version": "1.5.0",
      "_model_name": "ProgressStyleModel",
      "_view_count": null,
      "_view_module": "@jupyter-widgets/base",
      "_view_module_version": "1.2.0",
      "_view_name": "StyleView",
      "bar_color": null,
      "description_width": ""
     }
    },
    "57b046924f194ea4a91754c5ac31a060": {
     "model_module": "@jupyter-widgets/controls",
     "model_module_version": "1.5.0",
     "model_name": "HTMLModel",
     "state": {
      "_dom_classes": [],
      "_model_module": "@jupyter-widgets/controls",
      "_model_module_version": "1.5.0",
      "_model_name": "HTMLModel",
      "_view_count": null,
      "_view_module": "@jupyter-widgets/controls",
      "_view_module_version": "1.5.0",
      "_view_name": "HTMLView",
      "description": "",
      "description_tooltip": null,
      "layout": "IPY_MODEL_9e8e7ba50b47410f83313c8379d04cf5",
      "placeholder": "​",
      "style": "IPY_MODEL_cbe60ee977af4c5a94917030f206d2eb",
      "value": " 442M/442M [00:02&lt;00:00, 154MB/s]"
     }
    },
    "57fa063dc52e4bccb28fb04400f20f49": {
     "model_module": "@jupyter-widgets/controls",
     "model_module_version": "1.5.0",
     "model_name": "HTMLModel",
     "state": {
      "_dom_classes": [],
      "_model_module": "@jupyter-widgets/controls",
      "_model_module_version": "1.5.0",
      "_model_name": "HTMLModel",
      "_view_count": null,
      "_view_module": "@jupyter-widgets/controls",
      "_view_module_version": "1.5.0",
      "_view_name": "HTMLView",
      "description": "",
      "description_tooltip": null,
      "layout": "IPY_MODEL_1417a3371f7d4929a2f08cbf3a23615d",
      "placeholder": "​",
      "style": "IPY_MODEL_d07675fcd6944fab8dde4f6025fcd6e1",
      "value": " 229/229 [00:00&lt;00:00, 18.8kB/s]"
     }
    },
    "5aec6e415b1f4e6581adbe1e8aa35631": {
     "model_module": "@jupyter-widgets/base",
     "model_module_version": "1.2.0",
     "model_name": "LayoutModel",
     "state": {
      "_model_module": "@jupyter-widgets/base",
      "_model_module_version": "1.2.0",
      "_model_name": "LayoutModel",
      "_view_count": null,
      "_view_module": "@jupyter-widgets/base",
      "_view_module_version": "1.2.0",
      "_view_name": "LayoutView",
      "align_content": null,
      "align_items": null,
      "align_self": null,
      "border": null,
      "bottom": null,
      "display": null,
      "flex": null,
      "flex_flow": null,
      "grid_area": null,
      "grid_auto_columns": null,
      "grid_auto_flow": null,
      "grid_auto_rows": null,
      "grid_column": null,
      "grid_gap": null,
      "grid_row": null,
      "grid_template_areas": null,
      "grid_template_columns": null,
      "grid_template_rows": null,
      "height": null,
      "justify_content": null,
      "justify_items": null,
      "left": null,
      "margin": null,
      "max_height": null,
      "max_width": null,
      "min_height": null,
      "min_width": null,
      "object_fit": null,
      "object_position": null,
      "order": null,
      "overflow": null,
      "overflow_x": null,
      "overflow_y": null,
      "padding": null,
      "right": null,
      "top": null,
      "visibility": null,
      "width": null
     }
    },
    "5c8e5b3a7a084eb9a3abfbaef5ea6b5b": {
     "model_module": "@jupyter-widgets/base",
     "model_module_version": "1.2.0",
     "model_name": "LayoutModel",
     "state": {
      "_model_module": "@jupyter-widgets/base",
      "_model_module_version": "1.2.0",
      "_model_name": "LayoutModel",
      "_view_count": null,
      "_view_module": "@jupyter-widgets/base",
      "_view_module_version": "1.2.0",
      "_view_name": "LayoutView",
      "align_content": null,
      "align_items": null,
      "align_self": null,
      "border": null,
      "bottom": null,
      "display": null,
      "flex": null,
      "flex_flow": null,
      "grid_area": null,
      "grid_auto_columns": null,
      "grid_auto_flow": null,
      "grid_auto_rows": null,
      "grid_column": null,
      "grid_gap": null,
      "grid_row": null,
      "grid_template_areas": null,
      "grid_template_columns": null,
      "grid_template_rows": null,
      "height": null,
      "justify_content": null,
      "justify_items": null,
      "left": null,
      "margin": null,
      "max_height": null,
      "max_width": null,
      "min_height": null,
      "min_width": null,
      "object_fit": null,
      "object_position": null,
      "order": null,
      "overflow": null,
      "overflow_x": null,
      "overflow_y": null,
      "padding": null,
      "right": null,
      "top": null,
      "visibility": null,
      "width": null
     }
    },
    "5f1c4fd556f441f28a849f4aaf3a5f3b": {
     "model_module": "@jupyter-widgets/controls",
     "model_module_version": "1.5.0",
     "model_name": "HTMLModel",
     "state": {
      "_dom_classes": [],
      "_model_module": "@jupyter-widgets/controls",
      "_model_module_version": "1.5.0",
      "_model_name": "HTMLModel",
      "_view_count": null,
      "_view_module": "@jupyter-widgets/controls",
      "_view_module_version": "1.5.0",
      "_view_name": "HTMLView",
      "description": "",
      "description_tooltip": null,
      "layout": "IPY_MODEL_e8427be3f5bf4450bc5f2f4188582f5f",
      "placeholder": "​",
      "style": "IPY_MODEL_ac0f797213c741f3a44d369ab394ac12",
      "value": "pytorch_model.bin: 100%"
     }
    },
    "6061d51eb175402e9b9b02fa4be2638f": {
     "model_module": "@jupyter-widgets/controls",
     "model_module_version": "1.5.0",
     "model_name": "DescriptionStyleModel",
     "state": {
      "_model_module": "@jupyter-widgets/controls",
      "_model_module_version": "1.5.0",
      "_model_name": "DescriptionStyleModel",
      "_view_count": null,
      "_view_module": "@jupyter-widgets/base",
      "_view_module_version": "1.2.0",
      "_view_name": "StyleView",
      "description_width": ""
     }
    },
    "62b6f3c956014a37abba6666a831c53e": {
     "model_module": "@jupyter-widgets/controls",
     "model_module_version": "1.5.0",
     "model_name": "HTMLModel",
     "state": {
      "_dom_classes": [],
      "_model_module": "@jupyter-widgets/controls",
      "_model_module_version": "1.5.0",
      "_model_name": "HTMLModel",
      "_view_count": null,
      "_view_module": "@jupyter-widgets/controls",
      "_view_module_version": "1.5.0",
      "_view_name": "HTMLView",
      "description": "",
      "description_tooltip": null,
      "layout": "IPY_MODEL_b545bb9cb733438e97ff6920c5024783",
      "placeholder": "​",
      "style": "IPY_MODEL_e7cdb01003d540d58608966ec434f9f3",
      "value": "README.md: 100%"
     }
    },
    "62c6df25def3417b8c7bb83d36c0f948": {
     "model_module": "@jupyter-widgets/controls",
     "model_module_version": "1.5.0",
     "model_name": "HTMLModel",
     "state": {
      "_dom_classes": [],
      "_model_module": "@jupyter-widgets/controls",
      "_model_module_version": "1.5.0",
      "_model_name": "HTMLModel",
      "_view_count": null,
      "_view_module": "@jupyter-widgets/controls",
      "_view_module_version": "1.5.0",
      "_view_name": "HTMLView",
      "description": "",
      "description_tooltip": null,
      "layout": "IPY_MODEL_db936b31aa4d4128ba29594eda4941c4",
      "placeholder": "​",
      "style": "IPY_MODEL_e59226d7d2d3458f963b4154b35475d1",
      "value": " 112/112 [00:00&lt;00:00, 3.24kB/s]"
     }
    },
    "6306d7abbf904bd59a8f2f8bb5666430": {
     "model_module": "@jupyter-widgets/controls",
     "model_module_version": "1.5.0",
     "model_name": "DescriptionStyleModel",
     "state": {
      "_model_module": "@jupyter-widgets/controls",
      "_model_module_version": "1.5.0",
      "_model_name": "DescriptionStyleModel",
      "_view_count": null,
      "_view_module": "@jupyter-widgets/base",
      "_view_module_version": "1.2.0",
      "_view_name": "StyleView",
      "description_width": ""
     }
    },
    "6757854c5a7a4a5bb8ad9f9799d9dc07": {
     "model_module": "@jupyter-widgets/base",
     "model_module_version": "1.2.0",
     "model_name": "LayoutModel",
     "state": {
      "_model_module": "@jupyter-widgets/base",
      "_model_module_version": "1.2.0",
      "_model_name": "LayoutModel",
      "_view_count": null,
      "_view_module": "@jupyter-widgets/base",
      "_view_module_version": "1.2.0",
      "_view_name": "LayoutView",
      "align_content": null,
      "align_items": null,
      "align_self": null,
      "border": null,
      "bottom": null,
      "display": null,
      "flex": null,
      "flex_flow": null,
      "grid_area": null,
      "grid_auto_columns": null,
      "grid_auto_flow": null,
      "grid_auto_rows": null,
      "grid_column": null,
      "grid_gap": null,
      "grid_row": null,
      "grid_template_areas": null,
      "grid_template_columns": null,
      "grid_template_rows": null,
      "height": null,
      "justify_content": null,
      "justify_items": null,
      "left": null,
      "margin": null,
      "max_height": null,
      "max_width": null,
      "min_height": null,
      "min_width": null,
      "object_fit": null,
      "object_position": null,
      "order": null,
      "overflow": null,
      "overflow_x": null,
      "overflow_y": null,
      "padding": null,
      "right": null,
      "top": null,
      "visibility": null,
      "width": null
     }
    },
    "698a627bf18b44a6ba057f234b86c17e": {
     "model_module": "@jupyter-widgets/controls",
     "model_module_version": "1.5.0",
     "model_name": "HTMLModel",
     "state": {
      "_dom_classes": [],
      "_model_module": "@jupyter-widgets/controls",
      "_model_module_version": "1.5.0",
      "_model_name": "HTMLModel",
      "_view_count": null,
      "_view_module": "@jupyter-widgets/controls",
      "_view_module_version": "1.5.0",
      "_view_name": "HTMLView",
      "description": "",
      "description_tooltip": null,
      "layout": "IPY_MODEL_6757854c5a7a4a5bb8ad9f9799d9dc07",
      "placeholder": "​",
      "style": "IPY_MODEL_113582617b844defbe82e1136e79c131",
      "value": "sentence_bert_config.json: 100%"
     }
    },
    "6a1a39cfac2d41e99ed0615c72c83a45": {
     "model_module": "@jupyter-widgets/base",
     "model_module_version": "1.2.0",
     "model_name": "LayoutModel",
     "state": {
      "_model_module": "@jupyter-widgets/base",
      "_model_module_version": "1.2.0",
      "_model_name": "LayoutModel",
      "_view_count": null,
      "_view_module": "@jupyter-widgets/base",
      "_view_module_version": "1.2.0",
      "_view_name": "LayoutView",
      "align_content": null,
      "align_items": null,
      "align_self": null,
      "border": null,
      "bottom": null,
      "display": null,
      "flex": null,
      "flex_flow": null,
      "grid_area": null,
      "grid_auto_columns": null,
      "grid_auto_flow": null,
      "grid_auto_rows": null,
      "grid_column": null,
      "grid_gap": null,
      "grid_row": null,
      "grid_template_areas": null,
      "grid_template_columns": null,
      "grid_template_rows": null,
      "height": null,
      "justify_content": null,
      "justify_items": null,
      "left": null,
      "margin": null,
      "max_height": null,
      "max_width": null,
      "min_height": null,
      "min_width": null,
      "object_fit": null,
      "object_position": null,
      "order": null,
      "overflow": null,
      "overflow_x": null,
      "overflow_y": null,
      "padding": null,
      "right": null,
      "top": null,
      "visibility": null,
      "width": null
     }
    },
    "71eac95795bd462f860fd86bdfca20a0": {
     "model_module": "@jupyter-widgets/controls",
     "model_module_version": "1.5.0",
     "model_name": "HTMLModel",
     "state": {
      "_dom_classes": [],
      "_model_module": "@jupyter-widgets/controls",
      "_model_module_version": "1.5.0",
      "_model_name": "HTMLModel",
      "_view_count": null,
      "_view_module": "@jupyter-widgets/controls",
      "_view_module_version": "1.5.0",
      "_view_name": "HTMLView",
      "description": "",
      "description_tooltip": null,
      "layout": "IPY_MODEL_c8e97468c041483c9a2721a7b73a3a73",
      "placeholder": "​",
      "style": "IPY_MODEL_c416f40c262e45ccafdf581a59878b6f",
      "value": "config.json: 100%"
     }
    },
    "7a6cdb4e038d4c19ab762be13d630c4d": {
     "model_module": "@jupyter-widgets/controls",
     "model_module_version": "1.5.0",
     "model_name": "HTMLModel",
     "state": {
      "_dom_classes": [],
      "_model_module": "@jupyter-widgets/controls",
      "_model_module_version": "1.5.0",
      "_model_name": "HTMLModel",
      "_view_count": null,
      "_view_module": "@jupyter-widgets/controls",
      "_view_module_version": "1.5.0",
      "_view_name": "HTMLView",
      "description": "",
      "description_tooltip": null,
      "layout": "IPY_MODEL_9b599e2ed23740258e6f32bc590d588f",
      "placeholder": "​",
      "style": "IPY_MODEL_d55b6809947e408ea02d5c5e4235bd18",
      "value": " 190/190 [00:00&lt;00:00, 7.69kB/s]"
     }
    },
    "7bed791bc02d4892bfc91ce7ec86c9e4": {
     "model_module": "@jupyter-widgets/base",
     "model_module_version": "1.2.0",
     "model_name": "LayoutModel",
     "state": {
      "_model_module": "@jupyter-widgets/base",
      "_model_module_version": "1.2.0",
      "_model_name": "LayoutModel",
      "_view_count": null,
      "_view_module": "@jupyter-widgets/base",
      "_view_module_version": "1.2.0",
      "_view_name": "LayoutView",
      "align_content": null,
      "align_items": null,
      "align_self": null,
      "border": null,
      "bottom": null,
      "display": null,
      "flex": null,
      "flex_flow": null,
      "grid_area": null,
      "grid_auto_columns": null,
      "grid_auto_flow": null,
      "grid_auto_rows": null,
      "grid_column": null,
      "grid_gap": null,
      "grid_row": null,
      "grid_template_areas": null,
      "grid_template_columns": null,
      "grid_template_rows": null,
      "height": null,
      "justify_content": null,
      "justify_items": null,
      "left": null,
      "margin": null,
      "max_height": null,
      "max_width": null,
      "min_height": null,
      "min_width": null,
      "object_fit": null,
      "object_position": null,
      "order": null,
      "overflow": null,
      "overflow_x": null,
      "overflow_y": null,
      "padding": null,
      "right": null,
      "top": null,
      "visibility": null,
      "width": null
     }
    },
    "7e954b1fdda34c6f8afc2f0a4b2d9333": {
     "model_module": "@jupyter-widgets/base",
     "model_module_version": "1.2.0",
     "model_name": "LayoutModel",
     "state": {
      "_model_module": "@jupyter-widgets/base",
      "_model_module_version": "1.2.0",
      "_model_name": "LayoutModel",
      "_view_count": null,
      "_view_module": "@jupyter-widgets/base",
      "_view_module_version": "1.2.0",
      "_view_name": "LayoutView",
      "align_content": null,
      "align_items": null,
      "align_self": null,
      "border": null,
      "bottom": null,
      "display": null,
      "flex": null,
      "flex_flow": null,
      "grid_area": null,
      "grid_auto_columns": null,
      "grid_auto_flow": null,
      "grid_auto_rows": null,
      "grid_column": null,
      "grid_gap": null,
      "grid_row": null,
      "grid_template_areas": null,
      "grid_template_columns": null,
      "grid_template_rows": null,
      "height": null,
      "justify_content": null,
      "justify_items": null,
      "left": null,
      "margin": null,
      "max_height": null,
      "max_width": null,
      "min_height": null,
      "min_width": null,
      "object_fit": null,
      "object_position": null,
      "order": null,
      "overflow": null,
      "overflow_x": null,
      "overflow_y": null,
      "padding": null,
      "right": null,
      "top": null,
      "visibility": null,
      "width": null
     }
    },
    "80cabdf5330249d9bb9153f3f99e3dde": {
     "model_module": "@jupyter-widgets/controls",
     "model_module_version": "1.5.0",
     "model_name": "HBoxModel",
     "state": {
      "_dom_classes": [],
      "_model_module": "@jupyter-widgets/controls",
      "_model_module_version": "1.5.0",
      "_model_name": "HBoxModel",
      "_view_count": null,
      "_view_module": "@jupyter-widgets/controls",
      "_view_module_version": "1.5.0",
      "_view_name": "HBoxView",
      "box_style": "",
      "children": [
       "IPY_MODEL_2c2664aaa0c44493b3adcbbd6eecd697",
       "IPY_MODEL_b34e0a36337a438e949eae1d70fe1204",
       "IPY_MODEL_57b046924f194ea4a91754c5ac31a060"
      ],
      "layout": "IPY_MODEL_f5a17ee37b2e4fd7a9029da02a6640c0"
     }
    },
    "813f75c6f8f2430bb72a04cdf56ae8ca": {
     "model_module": "@jupyter-widgets/base",
     "model_module_version": "1.2.0",
     "model_name": "LayoutModel",
     "state": {
      "_model_module": "@jupyter-widgets/base",
      "_model_module_version": "1.2.0",
      "_model_name": "LayoutModel",
      "_view_count": null,
      "_view_module": "@jupyter-widgets/base",
      "_view_module_version": "1.2.0",
      "_view_name": "LayoutView",
      "align_content": null,
      "align_items": null,
      "align_self": null,
      "border": null,
      "bottom": null,
      "display": null,
      "flex": null,
      "flex_flow": null,
      "grid_area": null,
      "grid_auto_columns": null,
      "grid_auto_flow": null,
      "grid_auto_rows": null,
      "grid_column": null,
      "grid_gap": null,
      "grid_row": null,
      "grid_template_areas": null,
      "grid_template_columns": null,
      "grid_template_rows": null,
      "height": null,
      "justify_content": null,
      "justify_items": null,
      "left": null,
      "margin": null,
      "max_height": null,
      "max_width": null,
      "min_height": null,
      "min_width": null,
      "object_fit": null,
      "object_position": null,
      "order": null,
      "overflow": null,
      "overflow_x": null,
      "overflow_y": null,
      "padding": null,
      "right": null,
      "top": null,
      "visibility": null,
      "width": null
     }
    },
    "816f31f7f834476fa45d1667185e8f74": {
     "model_module": "@jupyter-widgets/controls",
     "model_module_version": "1.5.0",
     "model_name": "ProgressStyleModel",
     "state": {
      "_model_module": "@jupyter-widgets/controls",
      "_model_module_version": "1.5.0",
      "_model_name": "ProgressStyleModel",
      "_view_count": null,
      "_view_module": "@jupyter-widgets/base",
      "_view_module_version": "1.2.0",
      "_view_name": "StyleView",
      "bar_color": null,
      "description_width": ""
     }
    },
    "84dca25ae1724d8882b11dc1d766072e": {
     "model_module": "@jupyter-widgets/base",
     "model_module_version": "1.2.0",
     "model_name": "LayoutModel",
     "state": {
      "_model_module": "@jupyter-widgets/base",
      "_model_module_version": "1.2.0",
      "_model_name": "LayoutModel",
      "_view_count": null,
      "_view_module": "@jupyter-widgets/base",
      "_view_module_version": "1.2.0",
      "_view_name": "LayoutView",
      "align_content": null,
      "align_items": null,
      "align_self": null,
      "border": null,
      "bottom": null,
      "display": null,
      "flex": null,
      "flex_flow": null,
      "grid_area": null,
      "grid_auto_columns": null,
      "grid_auto_flow": null,
      "grid_auto_rows": null,
      "grid_column": null,
      "grid_gap": null,
      "grid_row": null,
      "grid_template_areas": null,
      "grid_template_columns": null,
      "grid_template_rows": null,
      "height": null,
      "justify_content": null,
      "justify_items": null,
      "left": null,
      "margin": null,
      "max_height": null,
      "max_width": null,
      "min_height": null,
      "min_width": null,
      "object_fit": null,
      "object_position": null,
      "order": null,
      "overflow": null,
      "overflow_x": null,
      "overflow_y": null,
      "padding": null,
      "right": null,
      "top": null,
      "visibility": null,
      "width": null
     }
    },
    "854016e377f84627b28c730e17bc5c69": {
     "model_module": "@jupyter-widgets/controls",
     "model_module_version": "1.5.0",
     "model_name": "ProgressStyleModel",
     "state": {
      "_model_module": "@jupyter-widgets/controls",
      "_model_module_version": "1.5.0",
      "_model_name": "ProgressStyleModel",
      "_view_count": null,
      "_view_module": "@jupyter-widgets/base",
      "_view_module_version": "1.2.0",
      "_view_name": "StyleView",
      "bar_color": null,
      "description_width": ""
     }
    },
    "86924b26e4c044d195e95788cfb6f328": {
     "model_module": "@jupyter-widgets/controls",
     "model_module_version": "1.5.0",
     "model_name": "FloatProgressModel",
     "state": {
      "_dom_classes": [],
      "_model_module": "@jupyter-widgets/controls",
      "_model_module_version": "1.5.0",
      "_model_name": "FloatProgressModel",
      "_view_count": null,
      "_view_module": "@jupyter-widgets/controls",
      "_view_module_version": "1.5.0",
      "_view_name": "ProgressView",
      "bar_style": "success",
      "description": "",
      "description_tooltip": null,
      "layout": "IPY_MODEL_a99e12372aa241f4be2603c413b3e388",
      "max": 620,
      "min": 0,
      "orientation": "horizontal",
      "style": "IPY_MODEL_c12ff057a57947379494c5558a222c80",
      "value": 620
     }
    },
    "8c8cc64844e1443f91333d19a7b1f56c": {
     "model_module": "@jupyter-widgets/base",
     "model_module_version": "1.2.0",
     "model_name": "LayoutModel",
     "state": {
      "_model_module": "@jupyter-widgets/base",
      "_model_module_version": "1.2.0",
      "_model_name": "LayoutModel",
      "_view_count": null,
      "_view_module": "@jupyter-widgets/base",
      "_view_module_version": "1.2.0",
      "_view_name": "LayoutView",
      "align_content": null,
      "align_items": null,
      "align_self": null,
      "border": null,
      "bottom": null,
      "display": null,
      "flex": null,
      "flex_flow": null,
      "grid_area": null,
      "grid_auto_columns": null,
      "grid_auto_flow": null,
      "grid_auto_rows": null,
      "grid_column": null,
      "grid_gap": null,
      "grid_row": null,
      "grid_template_areas": null,
      "grid_template_columns": null,
      "grid_template_rows": null,
      "height": null,
      "justify_content": null,
      "justify_items": null,
      "left": null,
      "margin": null,
      "max_height": null,
      "max_width": null,
      "min_height": null,
      "min_width": null,
      "object_fit": null,
      "object_position": null,
      "order": null,
      "overflow": null,
      "overflow_x": null,
      "overflow_y": null,
      "padding": null,
      "right": null,
      "top": null,
      "visibility": null,
      "width": null
     }
    },
    "902d8acba6764003910f459738884822": {
     "model_module": "@jupyter-widgets/controls",
     "model_module_version": "1.5.0",
     "model_name": "ProgressStyleModel",
     "state": {
      "_model_module": "@jupyter-widgets/controls",
      "_model_module_version": "1.5.0",
      "_model_name": "ProgressStyleModel",
      "_view_count": null,
      "_view_module": "@jupyter-widgets/base",
      "_view_module_version": "1.2.0",
      "_view_name": "StyleView",
      "bar_color": null,
      "description_width": ""
     }
    },
    "91df9421dbaf4e51bffa64096cd5a5b0": {
     "model_module": "@jupyter-widgets/base",
     "model_module_version": "1.2.0",
     "model_name": "LayoutModel",
     "state": {
      "_model_module": "@jupyter-widgets/base",
      "_model_module_version": "1.2.0",
      "_model_name": "LayoutModel",
      "_view_count": null,
      "_view_module": "@jupyter-widgets/base",
      "_view_module_version": "1.2.0",
      "_view_name": "LayoutView",
      "align_content": null,
      "align_items": null,
      "align_self": null,
      "border": null,
      "bottom": null,
      "display": null,
      "flex": null,
      "flex_flow": null,
      "grid_area": null,
      "grid_auto_columns": null,
      "grid_auto_flow": null,
      "grid_auto_rows": null,
      "grid_column": null,
      "grid_gap": null,
      "grid_row": null,
      "grid_template_areas": null,
      "grid_template_columns": null,
      "grid_template_rows": null,
      "height": null,
      "justify_content": null,
      "justify_items": null,
      "left": null,
      "margin": null,
      "max_height": null,
      "max_width": null,
      "min_height": null,
      "min_width": null,
      "object_fit": null,
      "object_position": null,
      "order": null,
      "overflow": null,
      "overflow_x": null,
      "overflow_y": null,
      "padding": null,
      "right": null,
      "top": null,
      "visibility": null,
      "width": null
     }
    },
    "931995c8591046ab86dc2799a9d43995": {
     "model_module": "@jupyter-widgets/controls",
     "model_module_version": "1.5.0",
     "model_name": "ProgressStyleModel",
     "state": {
      "_model_module": "@jupyter-widgets/controls",
      "_model_module_version": "1.5.0",
      "_model_name": "ProgressStyleModel",
      "_view_count": null,
      "_view_module": "@jupyter-widgets/base",
      "_view_module_version": "1.2.0",
      "_view_name": "StyleView",
      "bar_color": null,
      "description_width": ""
     }
    },
    "9b599e2ed23740258e6f32bc590d588f": {
     "model_module": "@jupyter-widgets/base",
     "model_module_version": "1.2.0",
     "model_name": "LayoutModel",
     "state": {
      "_model_module": "@jupyter-widgets/base",
      "_model_module_version": "1.2.0",
      "_model_name": "LayoutModel",
      "_view_count": null,
      "_view_module": "@jupyter-widgets/base",
      "_view_module_version": "1.2.0",
      "_view_name": "LayoutView",
      "align_content": null,
      "align_items": null,
      "align_self": null,
      "border": null,
      "bottom": null,
      "display": null,
      "flex": null,
      "flex_flow": null,
      "grid_area": null,
      "grid_auto_columns": null,
      "grid_auto_flow": null,
      "grid_auto_rows": null,
      "grid_column": null,
      "grid_gap": null,
      "grid_row": null,
      "grid_template_areas": null,
      "grid_template_columns": null,
      "grid_template_rows": null,
      "height": null,
      "justify_content": null,
      "justify_items": null,
      "left": null,
      "margin": null,
      "max_height": null,
      "max_width": null,
      "min_height": null,
      "min_width": null,
      "object_fit": null,
      "object_position": null,
      "order": null,
      "overflow": null,
      "overflow_x": null,
      "overflow_y": null,
      "padding": null,
      "right": null,
      "top": null,
      "visibility": null,
      "width": null
     }
    },
    "9bb9c7e11f6f4e239084d3c10391ce62": {
     "model_module": "@jupyter-widgets/base",
     "model_module_version": "1.2.0",
     "model_name": "LayoutModel",
     "state": {
      "_model_module": "@jupyter-widgets/base",
      "_model_module_version": "1.2.0",
      "_model_name": "LayoutModel",
      "_view_count": null,
      "_view_module": "@jupyter-widgets/base",
      "_view_module_version": "1.2.0",
      "_view_name": "LayoutView",
      "align_content": null,
      "align_items": null,
      "align_self": null,
      "border": null,
      "bottom": null,
      "display": null,
      "flex": null,
      "flex_flow": null,
      "grid_area": null,
      "grid_auto_columns": null,
      "grid_auto_flow": null,
      "grid_auto_rows": null,
      "grid_column": null,
      "grid_gap": null,
      "grid_row": null,
      "grid_template_areas": null,
      "grid_template_columns": null,
      "grid_template_rows": null,
      "height": null,
      "justify_content": null,
      "justify_items": null,
      "left": null,
      "margin": null,
      "max_height": null,
      "max_width": null,
      "min_height": null,
      "min_width": null,
      "object_fit": null,
      "object_position": null,
      "order": null,
      "overflow": null,
      "overflow_x": null,
      "overflow_y": null,
      "padding": null,
      "right": null,
      "top": null,
      "visibility": null,
      "width": null
     }
    },
    "9c1b642856444ac19726d1aa3d3eed63": {
     "model_module": "@jupyter-widgets/controls",
     "model_module_version": "1.5.0",
     "model_name": "DescriptionStyleModel",
     "state": {
      "_model_module": "@jupyter-widgets/controls",
      "_model_module_version": "1.5.0",
      "_model_name": "DescriptionStyleModel",
      "_view_count": null,
      "_view_module": "@jupyter-widgets/base",
      "_view_module_version": "1.2.0",
      "_view_name": "StyleView",
      "description_width": ""
     }
    },
    "9c848c2b9efb4411bc7fb3c545e56a26": {
     "model_module": "@jupyter-widgets/controls",
     "model_module_version": "1.5.0",
     "model_name": "HBoxModel",
     "state": {
      "_dom_classes": [],
      "_model_module": "@jupyter-widgets/controls",
      "_model_module_version": "1.5.0",
      "_model_name": "HBoxModel",
      "_view_count": null,
      "_view_module": "@jupyter-widgets/controls",
      "_view_module_version": "1.5.0",
      "_view_name": "HBoxView",
      "box_style": "",
      "children": [
       "IPY_MODEL_62b6f3c956014a37abba6666a831c53e",
       "IPY_MODEL_cc52d28d5d514ebe9c7048026323fcea",
       "IPY_MODEL_cb963f8c05d541788746ffda2226d645"
      ],
      "layout": "IPY_MODEL_7e954b1fdda34c6f8afc2f0a4b2d9333"
     }
    },
    "9da538cbc5994fbbb18255fd2fd84d16": {
     "model_module": "@jupyter-widgets/controls",
     "model_module_version": "1.5.0",
     "model_name": "HTMLModel",
     "state": {
      "_dom_classes": [],
      "_model_module": "@jupyter-widgets/controls",
      "_model_module_version": "1.5.0",
      "_model_name": "HTMLModel",
      "_view_count": null,
      "_view_module": "@jupyter-widgets/controls",
      "_view_module_version": "1.5.0",
      "_view_name": "HTMLView",
      "description": "",
      "description_tooltip": null,
      "layout": "IPY_MODEL_cc4c9775f1704585a7f9856a7e095c81",
      "placeholder": "​",
      "style": "IPY_MODEL_43b833df682f4b1a8aac8d04c68a5d14",
      "value": " 123/123 [00:00&lt;00:00, 14.4kB/s]"
     }
    },
    "9e8e7ba50b47410f83313c8379d04cf5": {
     "model_module": "@jupyter-widgets/base",
     "model_module_version": "1.2.0",
     "model_name": "LayoutModel",
     "state": {
      "_model_module": "@jupyter-widgets/base",
      "_model_module_version": "1.2.0",
      "_model_name": "LayoutModel",
      "_view_count": null,
      "_view_module": "@jupyter-widgets/base",
      "_view_module_version": "1.2.0",
      "_view_name": "LayoutView",
      "align_content": null,
      "align_items": null,
      "align_self": null,
      "border": null,
      "bottom": null,
      "display": null,
      "flex": null,
      "flex_flow": null,
      "grid_area": null,
      "grid_auto_columns": null,
      "grid_auto_flow": null,
      "grid_auto_rows": null,
      "grid_column": null,
      "grid_gap": null,
      "grid_row": null,
      "grid_template_areas": null,
      "grid_template_columns": null,
      "grid_template_rows": null,
      "height": null,
      "justify_content": null,
      "justify_items": null,
      "left": null,
      "margin": null,
      "max_height": null,
      "max_width": null,
      "min_height": null,
      "min_width": null,
      "object_fit": null,
      "object_position": null,
      "order": null,
      "overflow": null,
      "overflow_x": null,
      "overflow_y": null,
      "padding": null,
      "right": null,
      "top": null,
      "visibility": null,
      "width": null
     }
    },
    "a5b26af304f04493972a80cae76cdb4f": {
     "model_module": "@jupyter-widgets/base",
     "model_module_version": "1.2.0",
     "model_name": "LayoutModel",
     "state": {
      "_model_module": "@jupyter-widgets/base",
      "_model_module_version": "1.2.0",
      "_model_name": "LayoutModel",
      "_view_count": null,
      "_view_module": "@jupyter-widgets/base",
      "_view_module_version": "1.2.0",
      "_view_name": "LayoutView",
      "align_content": null,
      "align_items": null,
      "align_self": null,
      "border": null,
      "bottom": null,
      "display": null,
      "flex": null,
      "flex_flow": null,
      "grid_area": null,
      "grid_auto_columns": null,
      "grid_auto_flow": null,
      "grid_auto_rows": null,
      "grid_column": null,
      "grid_gap": null,
      "grid_row": null,
      "grid_template_areas": null,
      "grid_template_columns": null,
      "grid_template_rows": null,
      "height": null,
      "justify_content": null,
      "justify_items": null,
      "left": null,
      "margin": null,
      "max_height": null,
      "max_width": null,
      "min_height": null,
      "min_width": null,
      "object_fit": null,
      "object_position": null,
      "order": null,
      "overflow": null,
      "overflow_x": null,
      "overflow_y": null,
      "padding": null,
      "right": null,
      "top": null,
      "visibility": null,
      "width": null
     }
    },
    "a92695350ed748838b59e49e269cf918": {
     "model_module": "@jupyter-widgets/controls",
     "model_module_version": "1.5.0",
     "model_name": "HTMLModel",
     "state": {
      "_dom_classes": [],
      "_model_module": "@jupyter-widgets/controls",
      "_model_module_version": "1.5.0",
      "_model_name": "HTMLModel",
      "_view_count": null,
      "_view_module": "@jupyter-widgets/controls",
      "_view_module_version": "1.5.0",
      "_view_name": "HTMLView",
      "description": "",
      "description_tooltip": null,
      "layout": "IPY_MODEL_0aa1d150aef0496284cc456e1f5eadcc",
      "placeholder": "​",
      "style": "IPY_MODEL_2185fc2a7aa84a0b83e98d20484548c2",
      "value": "modules.json: 100%"
     }
    },
    "a99e12372aa241f4be2603c413b3e388": {
     "model_module": "@jupyter-widgets/base",
     "model_module_version": "1.2.0",
     "model_name": "LayoutModel",
     "state": {
      "_model_module": "@jupyter-widgets/base",
      "_model_module_version": "1.2.0",
      "_model_name": "LayoutModel",
      "_view_count": null,
      "_view_module": "@jupyter-widgets/base",
      "_view_module_version": "1.2.0",
      "_view_name": "LayoutView",
      "align_content": null,
      "align_items": null,
      "align_self": null,
      "border": null,
      "bottom": null,
      "display": null,
      "flex": null,
      "flex_flow": null,
      "grid_area": null,
      "grid_auto_columns": null,
      "grid_auto_flow": null,
      "grid_auto_rows": null,
      "grid_column": null,
      "grid_gap": null,
      "grid_row": null,
      "grid_template_areas": null,
      "grid_template_columns": null,
      "grid_template_rows": null,
      "height": null,
      "justify_content": null,
      "justify_items": null,
      "left": null,
      "margin": null,
      "max_height": null,
      "max_width": null,
      "min_height": null,
      "min_width": null,
      "object_fit": null,
      "object_position": null,
      "order": null,
      "overflow": null,
      "overflow_x": null,
      "overflow_y": null,
      "padding": null,
      "right": null,
      "top": null,
      "visibility": null,
      "width": null
     }
    },
    "a9a0008e09f84b0bbe68c3fc3c208a7e": {
     "model_module": "@jupyter-widgets/base",
     "model_module_version": "1.2.0",
     "model_name": "LayoutModel",
     "state": {
      "_model_module": "@jupyter-widgets/base",
      "_model_module_version": "1.2.0",
      "_model_name": "LayoutModel",
      "_view_count": null,
      "_view_module": "@jupyter-widgets/base",
      "_view_module_version": "1.2.0",
      "_view_name": "LayoutView",
      "align_content": null,
      "align_items": null,
      "align_self": null,
      "border": null,
      "bottom": null,
      "display": null,
      "flex": null,
      "flex_flow": null,
      "grid_area": null,
      "grid_auto_columns": null,
      "grid_auto_flow": null,
      "grid_auto_rows": null,
      "grid_column": null,
      "grid_gap": null,
      "grid_row": null,
      "grid_template_areas": null,
      "grid_template_columns": null,
      "grid_template_rows": null,
      "height": null,
      "justify_content": null,
      "justify_items": null,
      "left": null,
      "margin": null,
      "max_height": null,
      "max_width": null,
      "min_height": null,
      "min_width": null,
      "object_fit": null,
      "object_position": null,
      "order": null,
      "overflow": null,
      "overflow_x": null,
      "overflow_y": null,
      "padding": null,
      "right": null,
      "top": null,
      "visibility": null,
      "width": null
     }
    },
    "aa89f898cd2e4903b5d8151610755952": {
     "model_module": "@jupyter-widgets/base",
     "model_module_version": "1.2.0",
     "model_name": "LayoutModel",
     "state": {
      "_model_module": "@jupyter-widgets/base",
      "_model_module_version": "1.2.0",
      "_model_name": "LayoutModel",
      "_view_count": null,
      "_view_module": "@jupyter-widgets/base",
      "_view_module_version": "1.2.0",
      "_view_name": "LayoutView",
      "align_content": null,
      "align_items": null,
      "align_self": null,
      "border": null,
      "bottom": null,
      "display": null,
      "flex": null,
      "flex_flow": null,
      "grid_area": null,
      "grid_auto_columns": null,
      "grid_auto_flow": null,
      "grid_auto_rows": null,
      "grid_column": null,
      "grid_gap": null,
      "grid_row": null,
      "grid_template_areas": null,
      "grid_template_columns": null,
      "grid_template_rows": null,
      "height": null,
      "justify_content": null,
      "justify_items": null,
      "left": null,
      "margin": null,
      "max_height": null,
      "max_width": null,
      "min_height": null,
      "min_width": null,
      "object_fit": null,
      "object_position": null,
      "order": null,
      "overflow": null,
      "overflow_x": null,
      "overflow_y": null,
      "padding": null,
      "right": null,
      "top": null,
      "visibility": null,
      "width": null
     }
    },
    "ab92f3bac02f4c7c81185e467c26669e": {
     "model_module": "@jupyter-widgets/controls",
     "model_module_version": "1.5.0",
     "model_name": "FloatProgressModel",
     "state": {
      "_dom_classes": [],
      "_model_module": "@jupyter-widgets/controls",
      "_model_module_version": "1.5.0",
      "_model_name": "FloatProgressModel",
      "_view_count": null,
      "_view_module": "@jupyter-widgets/controls",
      "_view_module_version": "1.5.0",
      "_view_name": "ProgressView",
      "bar_style": "success",
      "description": "",
      "description_tooltip": null,
      "layout": "IPY_MODEL_040fa0b38b0f4c528644e0edf08f57f5",
      "max": 112,
      "min": 0,
      "orientation": "horizontal",
      "style": "IPY_MODEL_e7dc39aaa9f5496d81876bfd5d19a202",
      "value": 112
     }
    },
    "ac0f797213c741f3a44d369ab394ac12": {
     "model_module": "@jupyter-widgets/controls",
     "model_module_version": "1.5.0",
     "model_name": "DescriptionStyleModel",
     "state": {
      "_model_module": "@jupyter-widgets/controls",
      "_model_module_version": "1.5.0",
      "_model_name": "DescriptionStyleModel",
      "_view_count": null,
      "_view_module": "@jupyter-widgets/base",
      "_view_module_version": "1.2.0",
      "_view_name": "StyleView",
      "description_width": ""
     }
    },
    "ae2fe4dc30ab4c07857e9d92a9439563": {
     "model_module": "@jupyter-widgets/controls",
     "model_module_version": "1.5.0",
     "model_name": "FloatProgressModel",
     "state": {
      "_dom_classes": [],
      "_model_module": "@jupyter-widgets/controls",
      "_model_module_version": "1.5.0",
      "_model_name": "FloatProgressModel",
      "_view_count": null,
      "_view_module": "@jupyter-widgets/controls",
      "_view_module_version": "1.5.0",
      "_view_name": "ProgressView",
      "bar_style": "success",
      "description": "",
      "description_tooltip": null,
      "layout": "IPY_MODEL_6a1a39cfac2d41e99ed0615c72c83a45",
      "max": 53,
      "min": 0,
      "orientation": "horizontal",
      "style": "IPY_MODEL_53e070d8e51940d69b5ee755d5af93ec",
      "value": 53
     }
    },
    "aea8bf87fd444a8d8b657da38d0d7a1c": {
     "model_module": "@jupyter-widgets/controls",
     "model_module_version": "1.5.0",
     "model_name": "HBoxModel",
     "state": {
      "_dom_classes": [],
      "_model_module": "@jupyter-widgets/controls",
      "_model_module_version": "1.5.0",
      "_model_name": "HBoxModel",
      "_view_count": null,
      "_view_module": "@jupyter-widgets/controls",
      "_view_module_version": "1.5.0",
      "_view_name": "HBoxView",
      "box_style": "",
      "children": [
       "IPY_MODEL_5f1c4fd556f441f28a849f4aaf3a5f3b",
       "IPY_MODEL_0b8ce4dd1b9d46849839a1ce3de4de2a",
       "IPY_MODEL_b13e4e079b9241109c717471f45caf8e"
      ],
      "layout": "IPY_MODEL_123324c61e164a24b2bf90cd32d1faa0"
     }
    },
    "aee9e359a3fb470c9b3e1d5f7c4e5e1f": {
     "model_module": "@jupyter-widgets/controls",
     "model_module_version": "1.5.0",
     "model_name": "FloatProgressModel",
     "state": {
      "_dom_classes": [],
      "_model_module": "@jupyter-widgets/controls",
      "_model_module_version": "1.5.0",
      "_model_name": "FloatProgressModel",
      "_view_count": null,
      "_view_module": "@jupyter-widgets/controls",
      "_view_module_version": "1.5.0",
      "_view_name": "ProgressView",
      "bar_style": "success",
      "description": "",
      "description_tooltip": null,
      "layout": "IPY_MODEL_b99b2908bcff4907a27c3575903406ca",
      "max": 123,
      "min": 0,
      "orientation": "horizontal",
      "style": "IPY_MODEL_854016e377f84627b28c730e17bc5c69",
      "value": 123
     }
    },
    "b13e4e079b9241109c717471f45caf8e": {
     "model_module": "@jupyter-widgets/controls",
     "model_module_version": "1.5.0",
     "model_name": "HTMLModel",
     "state": {
      "_dom_classes": [],
      "_model_module": "@jupyter-widgets/controls",
      "_model_module_version": "1.5.0",
      "_model_name": "HTMLModel",
      "_view_count": null,
      "_view_module": "@jupyter-widgets/controls",
      "_view_module_version": "1.5.0",
      "_view_name": "HTMLView",
      "description": "",
      "description_tooltip": null,
      "layout": "IPY_MODEL_5aec6e415b1f4e6581adbe1e8aa35631",
      "placeholder": "​",
      "style": "IPY_MODEL_9c1b642856444ac19726d1aa3d3eed63",
      "value": " 443M/443M [00:07&lt;00:00, 30.6MB/s]"
     }
    },
    "b34e0a36337a438e949eae1d70fe1204": {
     "model_module": "@jupyter-widgets/controls",
     "model_module_version": "1.5.0",
     "model_name": "FloatProgressModel",
     "state": {
      "_dom_classes": [],
      "_model_module": "@jupyter-widgets/controls",
      "_model_module_version": "1.5.0",
      "_model_name": "FloatProgressModel",
      "_view_count": null,
      "_view_module": "@jupyter-widgets/controls",
      "_view_module_version": "1.5.0",
      "_view_name": "ProgressView",
      "bar_style": "success",
      "description": "",
      "description_tooltip": null,
      "layout": "IPY_MODEL_c33109d1a08a4632a79f0e3993b7bd20",
      "max": 442495928,
      "min": 0,
      "orientation": "horizontal",
      "style": "IPY_MODEL_902d8acba6764003910f459738884822",
      "value": 442495928
     }
    },
    "b3a5d9a8eb6445219ed99a60c1e3f553": {
     "model_module": "@jupyter-widgets/controls",
     "model_module_version": "1.5.0",
     "model_name": "DescriptionStyleModel",
     "state": {
      "_model_module": "@jupyter-widgets/controls",
      "_model_module_version": "1.5.0",
      "_model_name": "DescriptionStyleModel",
      "_view_count": null,
      "_view_module": "@jupyter-widgets/base",
      "_view_module_version": "1.2.0",
      "_view_name": "StyleView",
      "description_width": ""
     }
    },
    "b545bb9cb733438e97ff6920c5024783": {
     "model_module": "@jupyter-widgets/base",
     "model_module_version": "1.2.0",
     "model_name": "LayoutModel",
     "state": {
      "_model_module": "@jupyter-widgets/base",
      "_model_module_version": "1.2.0",
      "_model_name": "LayoutModel",
      "_view_count": null,
      "_view_module": "@jupyter-widgets/base",
      "_view_module_version": "1.2.0",
      "_view_name": "LayoutView",
      "align_content": null,
      "align_items": null,
      "align_self": null,
      "border": null,
      "bottom": null,
      "display": null,
      "flex": null,
      "flex_flow": null,
      "grid_area": null,
      "grid_auto_columns": null,
      "grid_auto_flow": null,
      "grid_auto_rows": null,
      "grid_column": null,
      "grid_gap": null,
      "grid_row": null,
      "grid_template_areas": null,
      "grid_template_columns": null,
      "grid_template_rows": null,
      "height": null,
      "justify_content": null,
      "justify_items": null,
      "left": null,
      "margin": null,
      "max_height": null,
      "max_width": null,
      "min_height": null,
      "min_width": null,
      "object_fit": null,
      "object_position": null,
      "order": null,
      "overflow": null,
      "overflow_x": null,
      "overflow_y": null,
      "padding": null,
      "right": null,
      "top": null,
      "visibility": null,
      "width": null
     }
    },
    "b99b2908bcff4907a27c3575903406ca": {
     "model_module": "@jupyter-widgets/base",
     "model_module_version": "1.2.0",
     "model_name": "LayoutModel",
     "state": {
      "_model_module": "@jupyter-widgets/base",
      "_model_module_version": "1.2.0",
      "_model_name": "LayoutModel",
      "_view_count": null,
      "_view_module": "@jupyter-widgets/base",
      "_view_module_version": "1.2.0",
      "_view_name": "LayoutView",
      "align_content": null,
      "align_items": null,
      "align_self": null,
      "border": null,
      "bottom": null,
      "display": null,
      "flex": null,
      "flex_flow": null,
      "grid_area": null,
      "grid_auto_columns": null,
      "grid_auto_flow": null,
      "grid_auto_rows": null,
      "grid_column": null,
      "grid_gap": null,
      "grid_row": null,
      "grid_template_areas": null,
      "grid_template_columns": null,
      "grid_template_rows": null,
      "height": null,
      "justify_content": null,
      "justify_items": null,
      "left": null,
      "margin": null,
      "max_height": null,
      "max_width": null,
      "min_height": null,
      "min_width": null,
      "object_fit": null,
      "object_position": null,
      "order": null,
      "overflow": null,
      "overflow_x": null,
      "overflow_y": null,
      "padding": null,
      "right": null,
      "top": null,
      "visibility": null,
      "width": null
     }
    },
    "bc50ddd0f8a94a348f3d81f449320aae": {
     "model_module": "@jupyter-widgets/base",
     "model_module_version": "1.2.0",
     "model_name": "LayoutModel",
     "state": {
      "_model_module": "@jupyter-widgets/base",
      "_model_module_version": "1.2.0",
      "_model_name": "LayoutModel",
      "_view_count": null,
      "_view_module": "@jupyter-widgets/base",
      "_view_module_version": "1.2.0",
      "_view_name": "LayoutView",
      "align_content": null,
      "align_items": null,
      "align_self": null,
      "border": null,
      "bottom": null,
      "display": null,
      "flex": null,
      "flex_flow": null,
      "grid_area": null,
      "grid_auto_columns": null,
      "grid_auto_flow": null,
      "grid_auto_rows": null,
      "grid_column": null,
      "grid_gap": null,
      "grid_row": null,
      "grid_template_areas": null,
      "grid_template_columns": null,
      "grid_template_rows": null,
      "height": null,
      "justify_content": null,
      "justify_items": null,
      "left": null,
      "margin": null,
      "max_height": null,
      "max_width": null,
      "min_height": null,
      "min_width": null,
      "object_fit": null,
      "object_position": null,
      "order": null,
      "overflow": null,
      "overflow_x": null,
      "overflow_y": null,
      "padding": null,
      "right": null,
      "top": null,
      "visibility": null,
      "width": null
     }
    },
    "bdd870c240ef45d587601e580df55d2d": {
     "model_module": "@jupyter-widgets/base",
     "model_module_version": "1.2.0",
     "model_name": "LayoutModel",
     "state": {
      "_model_module": "@jupyter-widgets/base",
      "_model_module_version": "1.2.0",
      "_model_name": "LayoutModel",
      "_view_count": null,
      "_view_module": "@jupyter-widgets/base",
      "_view_module_version": "1.2.0",
      "_view_name": "LayoutView",
      "align_content": null,
      "align_items": null,
      "align_self": null,
      "border": null,
      "bottom": null,
      "display": null,
      "flex": null,
      "flex_flow": null,
      "grid_area": null,
      "grid_auto_columns": null,
      "grid_auto_flow": null,
      "grid_auto_rows": null,
      "grid_column": null,
      "grid_gap": null,
      "grid_row": null,
      "grid_template_areas": null,
      "grid_template_columns": null,
      "grid_template_rows": null,
      "height": null,
      "justify_content": null,
      "justify_items": null,
      "left": null,
      "margin": null,
      "max_height": null,
      "max_width": null,
      "min_height": null,
      "min_width": null,
      "object_fit": null,
      "object_position": null,
      "order": null,
      "overflow": null,
      "overflow_x": null,
      "overflow_y": null,
      "padding": null,
      "right": null,
      "top": null,
      "visibility": null,
      "width": null
     }
    },
    "c12ff057a57947379494c5558a222c80": {
     "model_module": "@jupyter-widgets/controls",
     "model_module_version": "1.5.0",
     "model_name": "ProgressStyleModel",
     "state": {
      "_model_module": "@jupyter-widgets/controls",
      "_model_module_version": "1.5.0",
      "_model_name": "ProgressStyleModel",
      "_view_count": null,
      "_view_module": "@jupyter-widgets/base",
      "_view_module_version": "1.2.0",
      "_view_name": "StyleView",
      "bar_color": null,
      "description_width": ""
     }
    },
    "c2c97b8e36e34d9fa58a329c966d12c5": {
     "model_module": "@jupyter-widgets/controls",
     "model_module_version": "1.5.0",
     "model_name": "DescriptionStyleModel",
     "state": {
      "_model_module": "@jupyter-widgets/controls",
      "_model_module_version": "1.5.0",
      "_model_name": "DescriptionStyleModel",
      "_view_count": null,
      "_view_module": "@jupyter-widgets/base",
      "_view_module_version": "1.2.0",
      "_view_name": "StyleView",
      "description_width": ""
     }
    },
    "c33109d1a08a4632a79f0e3993b7bd20": {
     "model_module": "@jupyter-widgets/base",
     "model_module_version": "1.2.0",
     "model_name": "LayoutModel",
     "state": {
      "_model_module": "@jupyter-widgets/base",
      "_model_module_version": "1.2.0",
      "_model_name": "LayoutModel",
      "_view_count": null,
      "_view_module": "@jupyter-widgets/base",
      "_view_module_version": "1.2.0",
      "_view_name": "LayoutView",
      "align_content": null,
      "align_items": null,
      "align_self": null,
      "border": null,
      "bottom": null,
      "display": null,
      "flex": null,
      "flex_flow": null,
      "grid_area": null,
      "grid_auto_columns": null,
      "grid_auto_flow": null,
      "grid_auto_rows": null,
      "grid_column": null,
      "grid_gap": null,
      "grid_row": null,
      "grid_template_areas": null,
      "grid_template_columns": null,
      "grid_template_rows": null,
      "height": null,
      "justify_content": null,
      "justify_items": null,
      "left": null,
      "margin": null,
      "max_height": null,
      "max_width": null,
      "min_height": null,
      "min_width": null,
      "object_fit": null,
      "object_position": null,
      "order": null,
      "overflow": null,
      "overflow_x": null,
      "overflow_y": null,
      "padding": null,
      "right": null,
      "top": null,
      "visibility": null,
      "width": null
     }
    },
    "c416f40c262e45ccafdf581a59878b6f": {
     "model_module": "@jupyter-widgets/controls",
     "model_module_version": "1.5.0",
     "model_name": "DescriptionStyleModel",
     "state": {
      "_model_module": "@jupyter-widgets/controls",
      "_model_module_version": "1.5.0",
      "_model_name": "DescriptionStyleModel",
      "_view_count": null,
      "_view_module": "@jupyter-widgets/base",
      "_view_module_version": "1.2.0",
      "_view_name": "StyleView",
      "description_width": ""
     }
    },
    "c63eb221855f474ab3ee70c0127df52d": {
     "model_module": "@jupyter-widgets/controls",
     "model_module_version": "1.5.0",
     "model_name": "ProgressStyleModel",
     "state": {
      "_model_module": "@jupyter-widgets/controls",
      "_model_module_version": "1.5.0",
      "_model_name": "ProgressStyleModel",
      "_view_count": null,
      "_view_module": "@jupyter-widgets/base",
      "_view_module_version": "1.2.0",
      "_view_name": "StyleView",
      "bar_color": null,
      "description_width": ""
     }
    },
    "c7168b007beb4e35a1601dc053a245e2": {
     "model_module": "@jupyter-widgets/controls",
     "model_module_version": "1.5.0",
     "model_name": "FloatProgressModel",
     "state": {
      "_dom_classes": [],
      "_model_module": "@jupyter-widgets/controls",
      "_model_module_version": "1.5.0",
      "_model_name": "FloatProgressModel",
      "_view_count": null,
      "_view_module": "@jupyter-widgets/controls",
      "_view_module_version": "1.5.0",
      "_view_name": "ProgressView",
      "bar_style": "success",
      "description": "",
      "description_tooltip": null,
      "layout": "IPY_MODEL_a9a0008e09f84b0bbe68c3fc3c208a7e",
      "max": 538,
      "min": 0,
      "orientation": "horizontal",
      "style": "IPY_MODEL_c63eb221855f474ab3ee70c0127df52d",
      "value": 538
     }
    },
    "c8e97468c041483c9a2721a7b73a3a73": {
     "model_module": "@jupyter-widgets/base",
     "model_module_version": "1.2.0",
     "model_name": "LayoutModel",
     "state": {
      "_model_module": "@jupyter-widgets/base",
      "_model_module_version": "1.2.0",
      "_model_name": "LayoutModel",
      "_view_count": null,
      "_view_module": "@jupyter-widgets/base",
      "_view_module_version": "1.2.0",
      "_view_name": "LayoutView",
      "align_content": null,
      "align_items": null,
      "align_self": null,
      "border": null,
      "bottom": null,
      "display": null,
      "flex": null,
      "flex_flow": null,
      "grid_area": null,
      "grid_auto_columns": null,
      "grid_auto_flow": null,
      "grid_auto_rows": null,
      "grid_column": null,
      "grid_gap": null,
      "grid_row": null,
      "grid_template_areas": null,
      "grid_template_columns": null,
      "grid_template_rows": null,
      "height": null,
      "justify_content": null,
      "justify_items": null,
      "left": null,
      "margin": null,
      "max_height": null,
      "max_width": null,
      "min_height": null,
      "min_width": null,
      "object_fit": null,
      "object_position": null,
      "order": null,
      "overflow": null,
      "overflow_x": null,
      "overflow_y": null,
      "padding": null,
      "right": null,
      "top": null,
      "visibility": null,
      "width": null
     }
    },
    "c995156f67254dd4a15e9ab6c95f7f6d": {
     "model_module": "@jupyter-widgets/base",
     "model_module_version": "1.2.0",
     "model_name": "LayoutModel",
     "state": {
      "_model_module": "@jupyter-widgets/base",
      "_model_module_version": "1.2.0",
      "_model_name": "LayoutModel",
      "_view_count": null,
      "_view_module": "@jupyter-widgets/base",
      "_view_module_version": "1.2.0",
      "_view_name": "LayoutView",
      "align_content": null,
      "align_items": null,
      "align_self": null,
      "border": null,
      "bottom": null,
      "display": null,
      "flex": null,
      "flex_flow": null,
      "grid_area": null,
      "grid_auto_columns": null,
      "grid_auto_flow": null,
      "grid_auto_rows": null,
      "grid_column": null,
      "grid_gap": null,
      "grid_row": null,
      "grid_template_areas": null,
      "grid_template_columns": null,
      "grid_template_rows": null,
      "height": null,
      "justify_content": null,
      "justify_items": null,
      "left": null,
      "margin": null,
      "max_height": null,
      "max_width": null,
      "min_height": null,
      "min_width": null,
      "object_fit": null,
      "object_position": null,
      "order": null,
      "overflow": null,
      "overflow_x": null,
      "overflow_y": null,
      "padding": null,
      "right": null,
      "top": null,
      "visibility": null,
      "width": null
     }
    },
    "cb963f8c05d541788746ffda2226d645": {
     "model_module": "@jupyter-widgets/controls",
     "model_module_version": "1.5.0",
     "model_name": "HTMLModel",
     "state": {
      "_dom_classes": [],
      "_model_module": "@jupyter-widgets/controls",
      "_model_module_version": "1.5.0",
      "_model_name": "HTMLModel",
      "_view_count": null,
      "_view_module": "@jupyter-widgets/controls",
      "_view_module_version": "1.5.0",
      "_view_name": "HTMLView",
      "description": "",
      "description_tooltip": null,
      "layout": "IPY_MODEL_1ede0b3bbaea430f981d57e335a01b78",
      "placeholder": "​",
      "style": "IPY_MODEL_45a5e942b4204e1798e2ced0389f2001",
      "value": " 4.46k/4.46k [00:00&lt;00:00, 562kB/s]"
     }
    },
    "cbd5a535c4c5444e94eb9c575ae9273c": {
     "model_module": "@jupyter-widgets/controls",
     "model_module_version": "1.5.0",
     "model_name": "FloatProgressModel",
     "state": {
      "_dom_classes": [],
      "_model_module": "@jupyter-widgets/controls",
      "_model_module_version": "1.5.0",
      "_model_name": "FloatProgressModel",
      "_view_count": null,
      "_view_module": "@jupyter-widgets/controls",
      "_view_module_version": "1.5.0",
      "_view_name": "ProgressView",
      "bar_style": "success",
      "description": "",
      "description_tooltip": null,
      "layout": "IPY_MODEL_494d5b795e414e648298b99e7d407e9a",
      "max": 248477,
      "min": 0,
      "orientation": "horizontal",
      "style": "IPY_MODEL_4efc06078225451db9594140332fd610",
      "value": 248477
     }
    },
    "cbe60ee977af4c5a94917030f206d2eb": {
     "model_module": "@jupyter-widgets/controls",
     "model_module_version": "1.5.0",
     "model_name": "DescriptionStyleModel",
     "state": {
      "_model_module": "@jupyter-widgets/controls",
      "_model_module_version": "1.5.0",
      "_model_name": "DescriptionStyleModel",
      "_view_count": null,
      "_view_module": "@jupyter-widgets/base",
      "_view_module_version": "1.2.0",
      "_view_name": "StyleView",
      "description_width": ""
     }
    },
    "cc4c9775f1704585a7f9856a7e095c81": {
     "model_module": "@jupyter-widgets/base",
     "model_module_version": "1.2.0",
     "model_name": "LayoutModel",
     "state": {
      "_model_module": "@jupyter-widgets/base",
      "_model_module_version": "1.2.0",
      "_model_name": "LayoutModel",
      "_view_count": null,
      "_view_module": "@jupyter-widgets/base",
      "_view_module_version": "1.2.0",
      "_view_name": "LayoutView",
      "align_content": null,
      "align_items": null,
      "align_self": null,
      "border": null,
      "bottom": null,
      "display": null,
      "flex": null,
      "flex_flow": null,
      "grid_area": null,
      "grid_auto_columns": null,
      "grid_auto_flow": null,
      "grid_auto_rows": null,
      "grid_column": null,
      "grid_gap": null,
      "grid_row": null,
      "grid_template_areas": null,
      "grid_template_columns": null,
      "grid_template_rows": null,
      "height": null,
      "justify_content": null,
      "justify_items": null,
      "left": null,
      "margin": null,
      "max_height": null,
      "max_width": null,
      "min_height": null,
      "min_width": null,
      "object_fit": null,
      "object_position": null,
      "order": null,
      "overflow": null,
      "overflow_x": null,
      "overflow_y": null,
      "padding": null,
      "right": null,
      "top": null,
      "visibility": null,
      "width": null
     }
    },
    "cc52d28d5d514ebe9c7048026323fcea": {
     "model_module": "@jupyter-widgets/controls",
     "model_module_version": "1.5.0",
     "model_name": "FloatProgressModel",
     "state": {
      "_dom_classes": [],
      "_model_module": "@jupyter-widgets/controls",
      "_model_module_version": "1.5.0",
      "_model_name": "FloatProgressModel",
      "_view_count": null,
      "_view_module": "@jupyter-widgets/controls",
      "_view_module_version": "1.5.0",
      "_view_name": "ProgressView",
      "bar_style": "success",
      "description": "",
      "description_tooltip": null,
      "layout": "IPY_MODEL_e564e710e737467cab024584b1fed5be",
      "max": 4457,
      "min": 0,
      "orientation": "horizontal",
      "style": "IPY_MODEL_d190ad4777fe44b2af18cfc86f1f55f3",
      "value": 4457
     }
    },
    "ccb827e395ff49c4a6ae930e83c72db9": {
     "model_module": "@jupyter-widgets/controls",
     "model_module_version": "1.5.0",
     "model_name": "HBoxModel",
     "state": {
      "_dom_classes": [],
      "_model_module": "@jupyter-widgets/controls",
      "_model_module_version": "1.5.0",
      "_model_name": "HBoxModel",
      "_view_count": null,
      "_view_module": "@jupyter-widgets/controls",
      "_view_module_version": "1.5.0",
      "_view_name": "HBoxView",
      "box_style": "",
      "children": [
       "IPY_MODEL_216fea24e6fb4b9eac6ae7225c160705",
       "IPY_MODEL_86924b26e4c044d195e95788cfb6f328",
       "IPY_MODEL_0635e7c8e84b4575a4d066c4cd1510c2"
      ],
      "layout": "IPY_MODEL_40d5cbe69c8540e98bbce4aa03922d11"
     }
    },
    "cced170835be4b1db0a2416562d438b4": {
     "model_module": "@jupyter-widgets/base",
     "model_module_version": "1.2.0",
     "model_name": "LayoutModel",
     "state": {
      "_model_module": "@jupyter-widgets/base",
      "_model_module_version": "1.2.0",
      "_model_name": "LayoutModel",
      "_view_count": null,
      "_view_module": "@jupyter-widgets/base",
      "_view_module_version": "1.2.0",
      "_view_name": "LayoutView",
      "align_content": null,
      "align_items": null,
      "align_self": null,
      "border": null,
      "bottom": null,
      "display": null,
      "flex": null,
      "flex_flow": null,
      "grid_area": null,
      "grid_auto_columns": null,
      "grid_auto_flow": null,
      "grid_auto_rows": null,
      "grid_column": null,
      "grid_gap": null,
      "grid_row": null,
      "grid_template_areas": null,
      "grid_template_columns": null,
      "grid_template_rows": null,
      "height": null,
      "justify_content": null,
      "justify_items": null,
      "left": null,
      "margin": null,
      "max_height": null,
      "max_width": null,
      "min_height": null,
      "min_width": null,
      "object_fit": null,
      "object_position": null,
      "order": null,
      "overflow": null,
      "overflow_x": null,
      "overflow_y": null,
      "padding": null,
      "right": null,
      "top": null,
      "visibility": null,
      "width": null
     }
    },
    "d07675fcd6944fab8dde4f6025fcd6e1": {
     "model_module": "@jupyter-widgets/controls",
     "model_module_version": "1.5.0",
     "model_name": "DescriptionStyleModel",
     "state": {
      "_model_module": "@jupyter-widgets/controls",
      "_model_module_version": "1.5.0",
      "_model_name": "DescriptionStyleModel",
      "_view_count": null,
      "_view_module": "@jupyter-widgets/base",
      "_view_module_version": "1.2.0",
      "_view_name": "StyleView",
      "description_width": ""
     }
    },
    "d190ad4777fe44b2af18cfc86f1f55f3": {
     "model_module": "@jupyter-widgets/controls",
     "model_module_version": "1.5.0",
     "model_name": "ProgressStyleModel",
     "state": {
      "_model_module": "@jupyter-widgets/controls",
      "_model_module_version": "1.5.0",
      "_model_name": "ProgressStyleModel",
      "_view_count": null,
      "_view_module": "@jupyter-widgets/base",
      "_view_module_version": "1.2.0",
      "_view_name": "StyleView",
      "bar_color": null,
      "description_width": ""
     }
    },
    "d3be270d9be4408183eccb05140366ca": {
     "model_module": "@jupyter-widgets/base",
     "model_module_version": "1.2.0",
     "model_name": "LayoutModel",
     "state": {
      "_model_module": "@jupyter-widgets/base",
      "_model_module_version": "1.2.0",
      "_model_name": "LayoutModel",
      "_view_count": null,
      "_view_module": "@jupyter-widgets/base",
      "_view_module_version": "1.2.0",
      "_view_name": "LayoutView",
      "align_content": null,
      "align_items": null,
      "align_self": null,
      "border": null,
      "bottom": null,
      "display": null,
      "flex": null,
      "flex_flow": null,
      "grid_area": null,
      "grid_auto_columns": null,
      "grid_auto_flow": null,
      "grid_auto_rows": null,
      "grid_column": null,
      "grid_gap": null,
      "grid_row": null,
      "grid_template_areas": null,
      "grid_template_columns": null,
      "grid_template_rows": null,
      "height": null,
      "justify_content": null,
      "justify_items": null,
      "left": null,
      "margin": null,
      "max_height": null,
      "max_width": null,
      "min_height": null,
      "min_width": null,
      "object_fit": null,
      "object_position": null,
      "order": null,
      "overflow": null,
      "overflow_x": null,
      "overflow_y": null,
      "padding": null,
      "right": null,
      "top": null,
      "visibility": null,
      "width": null
     }
    },
    "d4caaef39a91471b86e03c6994914f2f": {
     "model_module": "@jupyter-widgets/controls",
     "model_module_version": "1.5.0",
     "model_name": "ProgressStyleModel",
     "state": {
      "_model_module": "@jupyter-widgets/controls",
      "_model_module_version": "1.5.0",
      "_model_name": "ProgressStyleModel",
      "_view_count": null,
      "_view_module": "@jupyter-widgets/base",
      "_view_module_version": "1.2.0",
      "_view_name": "StyleView",
      "bar_color": null,
      "description_width": ""
     }
    },
    "d4e478f8f9fb4a8d824011ecd34d2c23": {
     "model_module": "@jupyter-widgets/controls",
     "model_module_version": "1.5.0",
     "model_name": "HTMLModel",
     "state": {
      "_dom_classes": [],
      "_model_module": "@jupyter-widgets/controls",
      "_model_module_version": "1.5.0",
      "_model_name": "HTMLModel",
      "_view_count": null,
      "_view_module": "@jupyter-widgets/controls",
      "_view_module_version": "1.5.0",
      "_view_name": "HTMLView",
      "description": "",
      "description_tooltip": null,
      "layout": "IPY_MODEL_bc50ddd0f8a94a348f3d81f449320aae",
      "placeholder": "​",
      "style": "IPY_MODEL_03f48ebffd6e466abe0016f8a6f48da5",
      "value": " 495k/495k [00:00&lt;00:00, 28.4MB/s]"
     }
    },
    "d55b6809947e408ea02d5c5e4235bd18": {
     "model_module": "@jupyter-widgets/controls",
     "model_module_version": "1.5.0",
     "model_name": "DescriptionStyleModel",
     "state": {
      "_model_module": "@jupyter-widgets/controls",
      "_model_module_version": "1.5.0",
      "_model_name": "DescriptionStyleModel",
      "_view_count": null,
      "_view_module": "@jupyter-widgets/base",
      "_view_module_version": "1.2.0",
      "_view_name": "StyleView",
      "description_width": ""
     }
    },
    "d56f7db5a9bd4973ab49dcca161a253b": {
     "model_module": "@jupyter-widgets/controls",
     "model_module_version": "1.5.0",
     "model_name": "HTMLModel",
     "state": {
      "_dom_classes": [],
      "_model_module": "@jupyter-widgets/controls",
      "_model_module_version": "1.5.0",
      "_model_name": "HTMLModel",
      "_view_count": null,
      "_view_module": "@jupyter-widgets/controls",
      "_view_module_version": "1.5.0",
      "_view_name": "HTMLView",
      "description": "",
      "description_tooltip": null,
      "layout": "IPY_MODEL_aa89f898cd2e4903b5d8151610755952",
      "placeholder": "​",
      "style": "IPY_MODEL_1d071b3791e0448aacbe896a575ce475",
      "value": " 53.0/53.0 [00:00&lt;00:00, 5.11kB/s]"
     }
    },
    "d5f1623f27bd4772beef0ae18c3b5b2c": {
     "model_module": "@jupyter-widgets/controls",
     "model_module_version": "1.5.0",
     "model_name": "HBoxModel",
     "state": {
      "_dom_classes": [],
      "_model_module": "@jupyter-widgets/controls",
      "_model_module_version": "1.5.0",
      "_model_name": "HBoxModel",
      "_view_count": null,
      "_view_module": "@jupyter-widgets/controls",
      "_view_module_version": "1.5.0",
      "_view_name": "HBoxView",
      "box_style": "",
      "children": [
       "IPY_MODEL_3aa4009b79d249a182f6377cb15522d6",
       "IPY_MODEL_aee9e359a3fb470c9b3e1d5f7c4e5e1f",
       "IPY_MODEL_9da538cbc5994fbbb18255fd2fd84d16"
      ],
      "layout": "IPY_MODEL_84dca25ae1724d8882b11dc1d766072e"
     }
    },
    "d62f4cfef27c474988765189835e2142": {
     "model_module": "@jupyter-widgets/base",
     "model_module_version": "1.2.0",
     "model_name": "LayoutModel",
     "state": {
      "_model_module": "@jupyter-widgets/base",
      "_model_module_version": "1.2.0",
      "_model_name": "LayoutModel",
      "_view_count": null,
      "_view_module": "@jupyter-widgets/base",
      "_view_module_version": "1.2.0",
      "_view_name": "LayoutView",
      "align_content": null,
      "align_items": null,
      "align_self": null,
      "border": null,
      "bottom": null,
      "display": null,
      "flex": null,
      "flex_flow": null,
      "grid_area": null,
      "grid_auto_columns": null,
      "grid_auto_flow": null,
      "grid_auto_rows": null,
      "grid_column": null,
      "grid_gap": null,
      "grid_row": null,
      "grid_template_areas": null,
      "grid_template_columns": null,
      "grid_template_rows": null,
      "height": null,
      "justify_content": null,
      "justify_items": null,
      "left": null,
      "margin": null,
      "max_height": null,
      "max_width": null,
      "min_height": null,
      "min_width": null,
      "object_fit": null,
      "object_position": null,
      "order": null,
      "overflow": null,
      "overflow_x": null,
      "overflow_y": null,
      "padding": null,
      "right": null,
      "top": null,
      "visibility": null,
      "width": null
     }
    },
    "d9abc974b7ba4f65b00ee6c116589fc8": {
     "model_module": "@jupyter-widgets/controls",
     "model_module_version": "1.5.0",
     "model_name": "HTMLModel",
     "state": {
      "_dom_classes": [],
      "_model_module": "@jupyter-widgets/controls",
      "_model_module_version": "1.5.0",
      "_model_name": "HTMLModel",
      "_view_count": null,
      "_view_module": "@jupyter-widgets/controls",
      "_view_module_version": "1.5.0",
      "_view_name": "HTMLView",
      "description": "",
      "description_tooltip": null,
      "layout": "IPY_MODEL_bdd870c240ef45d587601e580df55d2d",
      "placeholder": "​",
      "style": "IPY_MODEL_1cc9b266ddf24ab0851f2367c67f1789",
      "value": "vocab.txt: 100%"
     }
    },
    "db936b31aa4d4128ba29594eda4941c4": {
     "model_module": "@jupyter-widgets/base",
     "model_module_version": "1.2.0",
     "model_name": "LayoutModel",
     "state": {
      "_model_module": "@jupyter-widgets/base",
      "_model_module_version": "1.2.0",
      "_model_name": "LayoutModel",
      "_view_count": null,
      "_view_module": "@jupyter-widgets/base",
      "_view_module_version": "1.2.0",
      "_view_name": "LayoutView",
      "align_content": null,
      "align_items": null,
      "align_self": null,
      "border": null,
      "bottom": null,
      "display": null,
      "flex": null,
      "flex_flow": null,
      "grid_area": null,
      "grid_auto_columns": null,
      "grid_auto_flow": null,
      "grid_auto_rows": null,
      "grid_column": null,
      "grid_gap": null,
      "grid_row": null,
      "grid_template_areas": null,
      "grid_template_columns": null,
      "grid_template_rows": null,
      "height": null,
      "justify_content": null,
      "justify_items": null,
      "left": null,
      "margin": null,
      "max_height": null,
      "max_width": null,
      "min_height": null,
      "min_width": null,
      "object_fit": null,
      "object_position": null,
      "order": null,
      "overflow": null,
      "overflow_x": null,
      "overflow_y": null,
      "padding": null,
      "right": null,
      "top": null,
      "visibility": null,
      "width": null
     }
    },
    "e1dd65ab5c7845c0a32e4ecf4e117074": {
     "model_module": "@jupyter-widgets/controls",
     "model_module_version": "1.5.0",
     "model_name": "HBoxModel",
     "state": {
      "_dom_classes": [],
      "_model_module": "@jupyter-widgets/controls",
      "_model_module_version": "1.5.0",
      "_model_name": "HBoxModel",
      "_view_count": null,
      "_view_module": "@jupyter-widgets/controls",
      "_view_module_version": "1.5.0",
      "_view_name": "HBoxView",
      "box_style": "",
      "children": [
       "IPY_MODEL_71eac95795bd462f860fd86bdfca20a0",
       "IPY_MODEL_3d76aa8a5b8e4cadb2244275fb49f4ec",
       "IPY_MODEL_7a6cdb4e038d4c19ab762be13d630c4d"
      ],
      "layout": "IPY_MODEL_e3a4fdd7343b4bcb80ef92e23ade232a"
     }
    },
    "e3a4fdd7343b4bcb80ef92e23ade232a": {
     "model_module": "@jupyter-widgets/base",
     "model_module_version": "1.2.0",
     "model_name": "LayoutModel",
     "state": {
      "_model_module": "@jupyter-widgets/base",
      "_model_module_version": "1.2.0",
      "_model_name": "LayoutModel",
      "_view_count": null,
      "_view_module": "@jupyter-widgets/base",
      "_view_module_version": "1.2.0",
      "_view_name": "LayoutView",
      "align_content": null,
      "align_items": null,
      "align_self": null,
      "border": null,
      "bottom": null,
      "display": null,
      "flex": null,
      "flex_flow": null,
      "grid_area": null,
      "grid_auto_columns": null,
      "grid_auto_flow": null,
      "grid_auto_rows": null,
      "grid_column": null,
      "grid_gap": null,
      "grid_row": null,
      "grid_template_areas": null,
      "grid_template_columns": null,
      "grid_template_rows": null,
      "height": null,
      "justify_content": null,
      "justify_items": null,
      "left": null,
      "margin": null,
      "max_height": null,
      "max_width": null,
      "min_height": null,
      "min_width": null,
      "object_fit": null,
      "object_position": null,
      "order": null,
      "overflow": null,
      "overflow_x": null,
      "overflow_y": null,
      "padding": null,
      "right": null,
      "top": null,
      "visibility": null,
      "width": null
     }
    },
    "e564e710e737467cab024584b1fed5be": {
     "model_module": "@jupyter-widgets/base",
     "model_module_version": "1.2.0",
     "model_name": "LayoutModel",
     "state": {
      "_model_module": "@jupyter-widgets/base",
      "_model_module_version": "1.2.0",
      "_model_name": "LayoutModel",
      "_view_count": null,
      "_view_module": "@jupyter-widgets/base",
      "_view_module_version": "1.2.0",
      "_view_name": "LayoutView",
      "align_content": null,
      "align_items": null,
      "align_self": null,
      "border": null,
      "bottom": null,
      "display": null,
      "flex": null,
      "flex_flow": null,
      "grid_area": null,
      "grid_auto_columns": null,
      "grid_auto_flow": null,
      "grid_auto_rows": null,
      "grid_column": null,
      "grid_gap": null,
      "grid_row": null,
      "grid_template_areas": null,
      "grid_template_columns": null,
      "grid_template_rows": null,
      "height": null,
      "justify_content": null,
      "justify_items": null,
      "left": null,
      "margin": null,
      "max_height": null,
      "max_width": null,
      "min_height": null,
      "min_width": null,
      "object_fit": null,
      "object_position": null,
      "order": null,
      "overflow": null,
      "overflow_x": null,
      "overflow_y": null,
      "padding": null,
      "right": null,
      "top": null,
      "visibility": null,
      "width": null
     }
    },
    "e59226d7d2d3458f963b4154b35475d1": {
     "model_module": "@jupyter-widgets/controls",
     "model_module_version": "1.5.0",
     "model_name": "DescriptionStyleModel",
     "state": {
      "_model_module": "@jupyter-widgets/controls",
      "_model_module_version": "1.5.0",
      "_model_name": "DescriptionStyleModel",
      "_view_count": null,
      "_view_module": "@jupyter-widgets/base",
      "_view_module_version": "1.2.0",
      "_view_name": "StyleView",
      "description_width": ""
     }
    },
    "e7cdb01003d540d58608966ec434f9f3": {
     "model_module": "@jupyter-widgets/controls",
     "model_module_version": "1.5.0",
     "model_name": "DescriptionStyleModel",
     "state": {
      "_model_module": "@jupyter-widgets/controls",
      "_model_module_version": "1.5.0",
      "_model_name": "DescriptionStyleModel",
      "_view_count": null,
      "_view_module": "@jupyter-widgets/base",
      "_view_module_version": "1.2.0",
      "_view_name": "StyleView",
      "description_width": ""
     }
    },
    "e7dc39aaa9f5496d81876bfd5d19a202": {
     "model_module": "@jupyter-widgets/controls",
     "model_module_version": "1.5.0",
     "model_name": "ProgressStyleModel",
     "state": {
      "_model_module": "@jupyter-widgets/controls",
      "_model_module_version": "1.5.0",
      "_model_name": "ProgressStyleModel",
      "_view_count": null,
      "_view_module": "@jupyter-widgets/base",
      "_view_module_version": "1.2.0",
      "_view_name": "StyleView",
      "bar_color": null,
      "description_width": ""
     }
    },
    "e8245503f2c841dca94ecc6c9098d356": {
     "model_module": "@jupyter-widgets/controls",
     "model_module_version": "1.5.0",
     "model_name": "DescriptionStyleModel",
     "state": {
      "_model_module": "@jupyter-widgets/controls",
      "_model_module_version": "1.5.0",
      "_model_name": "DescriptionStyleModel",
      "_view_count": null,
      "_view_module": "@jupyter-widgets/base",
      "_view_module_version": "1.2.0",
      "_view_name": "StyleView",
      "description_width": ""
     }
    },
    "e8427be3f5bf4450bc5f2f4188582f5f": {
     "model_module": "@jupyter-widgets/base",
     "model_module_version": "1.2.0",
     "model_name": "LayoutModel",
     "state": {
      "_model_module": "@jupyter-widgets/base",
      "_model_module_version": "1.2.0",
      "_model_name": "LayoutModel",
      "_view_count": null,
      "_view_module": "@jupyter-widgets/base",
      "_view_module_version": "1.2.0",
      "_view_name": "LayoutView",
      "align_content": null,
      "align_items": null,
      "align_self": null,
      "border": null,
      "bottom": null,
      "display": null,
      "flex": null,
      "flex_flow": null,
      "grid_area": null,
      "grid_auto_columns": null,
      "grid_auto_flow": null,
      "grid_auto_rows": null,
      "grid_column": null,
      "grid_gap": null,
      "grid_row": null,
      "grid_template_areas": null,
      "grid_template_columns": null,
      "grid_template_rows": null,
      "height": null,
      "justify_content": null,
      "justify_items": null,
      "left": null,
      "margin": null,
      "max_height": null,
      "max_width": null,
      "min_height": null,
      "min_width": null,
      "object_fit": null,
      "object_position": null,
      "order": null,
      "overflow": null,
      "overflow_x": null,
      "overflow_y": null,
      "padding": null,
      "right": null,
      "top": null,
      "visibility": null,
      "width": null
     }
    },
    "e89c1e287d1f4838bc65d9144e09103f": {
     "model_module": "@jupyter-widgets/controls",
     "model_module_version": "1.5.0",
     "model_name": "HBoxModel",
     "state": {
      "_dom_classes": [],
      "_model_module": "@jupyter-widgets/controls",
      "_model_module_version": "1.5.0",
      "_model_name": "HBoxModel",
      "_view_count": null,
      "_view_module": "@jupyter-widgets/controls",
      "_view_module_version": "1.5.0",
      "_view_name": "HBoxView",
      "box_style": "",
      "children": [
       "IPY_MODEL_3923fceb303f4629952ea67c36e3132c",
       "IPY_MODEL_ab92f3bac02f4c7c81185e467c26669e",
       "IPY_MODEL_62c6df25def3417b8c7bb83d36c0f948"
      ],
      "layout": "IPY_MODEL_f375c59c161a4405b9745a06984d97d7"
     }
    },
    "f1fd8adeeb3741c4857b0092b1eb1312": {
     "model_module": "@jupyter-widgets/controls",
     "model_module_version": "1.5.0",
     "model_name": "HTMLModel",
     "state": {
      "_dom_classes": [],
      "_model_module": "@jupyter-widgets/controls",
      "_model_module_version": "1.5.0",
      "_model_name": "HTMLModel",
      "_view_count": null,
      "_view_module": "@jupyter-widgets/controls",
      "_view_module_version": "1.5.0",
      "_view_name": "HTMLView",
      "description": "",
      "description_tooltip": null,
      "layout": "IPY_MODEL_cced170835be4b1db0a2416562d438b4",
      "placeholder": "​",
      "style": "IPY_MODEL_1309cf188b4546ef99e6bc631a167107",
      "value": " 538/538 [00:00&lt;00:00, 30.8kB/s]"
     }
    },
    "f375c59c161a4405b9745a06984d97d7": {
     "model_module": "@jupyter-widgets/base",
     "model_module_version": "1.2.0",
     "model_name": "LayoutModel",
     "state": {
      "_model_module": "@jupyter-widgets/base",
      "_model_module_version": "1.2.0",
      "_model_name": "LayoutModel",
      "_view_count": null,
      "_view_module": "@jupyter-widgets/base",
      "_view_module_version": "1.2.0",
      "_view_name": "LayoutView",
      "align_content": null,
      "align_items": null,
      "align_self": null,
      "border": null,
      "bottom": null,
      "display": null,
      "flex": null,
      "flex_flow": null,
      "grid_area": null,
      "grid_auto_columns": null,
      "grid_auto_flow": null,
      "grid_auto_rows": null,
      "grid_column": null,
      "grid_gap": null,
      "grid_row": null,
      "grid_template_areas": null,
      "grid_template_columns": null,
      "grid_template_rows": null,
      "height": null,
      "justify_content": null,
      "justify_items": null,
      "left": null,
      "margin": null,
      "max_height": null,
      "max_width": null,
      "min_height": null,
      "min_width": null,
      "object_fit": null,
      "object_position": null,
      "order": null,
      "overflow": null,
      "overflow_x": null,
      "overflow_y": null,
      "padding": null,
      "right": null,
      "top": null,
      "visibility": null,
      "width": null
     }
    },
    "f569244414c547ce8d363959f326fe0d": {
     "model_module": "@jupyter-widgets/base",
     "model_module_version": "1.2.0",
     "model_name": "LayoutModel",
     "state": {
      "_model_module": "@jupyter-widgets/base",
      "_model_module_version": "1.2.0",
      "_model_name": "LayoutModel",
      "_view_count": null,
      "_view_module": "@jupyter-widgets/base",
      "_view_module_version": "1.2.0",
      "_view_name": "LayoutView",
      "align_content": null,
      "align_items": null,
      "align_self": null,
      "border": null,
      "bottom": null,
      "display": null,
      "flex": null,
      "flex_flow": null,
      "grid_area": null,
      "grid_auto_columns": null,
      "grid_auto_flow": null,
      "grid_auto_rows": null,
      "grid_column": null,
      "grid_gap": null,
      "grid_row": null,
      "grid_template_areas": null,
      "grid_template_columns": null,
      "grid_template_rows": null,
      "height": null,
      "justify_content": null,
      "justify_items": null,
      "left": null,
      "margin": null,
      "max_height": null,
      "max_width": null,
      "min_height": null,
      "min_width": null,
      "object_fit": null,
      "object_position": null,
      "order": null,
      "overflow": null,
      "overflow_x": null,
      "overflow_y": null,
      "padding": null,
      "right": null,
      "top": null,
      "visibility": null,
      "width": null
     }
    },
    "f5a17ee37b2e4fd7a9029da02a6640c0": {
     "model_module": "@jupyter-widgets/base",
     "model_module_version": "1.2.0",
     "model_name": "LayoutModel",
     "state": {
      "_model_module": "@jupyter-widgets/base",
      "_model_module_version": "1.2.0",
      "_model_name": "LayoutModel",
      "_view_count": null,
      "_view_module": "@jupyter-widgets/base",
      "_view_module_version": "1.2.0",
      "_view_name": "LayoutView",
      "align_content": null,
      "align_items": null,
      "align_self": null,
      "border": null,
      "bottom": null,
      "display": null,
      "flex": null,
      "flex_flow": null,
      "grid_area": null,
      "grid_auto_columns": null,
      "grid_auto_flow": null,
      "grid_auto_rows": null,
      "grid_column": null,
      "grid_gap": null,
      "grid_row": null,
      "grid_template_areas": null,
      "grid_template_columns": null,
      "grid_template_rows": null,
      "height": null,
      "justify_content": null,
      "justify_items": null,
      "left": null,
      "margin": null,
      "max_height": null,
      "max_width": null,
      "min_height": null,
      "min_width": null,
      "object_fit": null,
      "object_position": null,
      "order": null,
      "overflow": null,
      "overflow_x": null,
      "overflow_y": null,
      "padding": null,
      "right": null,
      "top": null,
      "visibility": null,
      "width": null
     }
    },
    "f972348465d14210a5d5629f2371d540": {
     "model_module": "@jupyter-widgets/controls",
     "model_module_version": "1.5.0",
     "model_name": "HTMLModel",
     "state": {
      "_dom_classes": [],
      "_model_module": "@jupyter-widgets/controls",
      "_model_module_version": "1.5.0",
      "_model_name": "HTMLModel",
      "_view_count": null,
      "_view_module": "@jupyter-widgets/controls",
      "_view_module_version": "1.5.0",
      "_view_name": "HTMLView",
      "description": "",
      "description_tooltip": null,
      "layout": "IPY_MODEL_9bb9c7e11f6f4e239084d3c10391ce62",
      "placeholder": "​",
      "style": "IPY_MODEL_c2c97b8e36e34d9fa58a329c966d12c5",
      "value": "tokenizer_config.json: 100%"
     }
    },
    "ff94ef955ba44450a335e86556ea2f79": {
     "model_module": "@jupyter-widgets/base",
     "model_module_version": "1.2.0",
     "model_name": "LayoutModel",
     "state": {
      "_model_module": "@jupyter-widgets/base",
      "_model_module_version": "1.2.0",
      "_model_name": "LayoutModel",
      "_view_count": null,
      "_view_module": "@jupyter-widgets/base",
      "_view_module_version": "1.2.0",
      "_view_name": "LayoutView",
      "align_content": null,
      "align_items": null,
      "align_self": null,
      "border": null,
      "bottom": null,
      "display": null,
      "flex": null,
      "flex_flow": null,
      "grid_area": null,
      "grid_auto_columns": null,
      "grid_auto_flow": null,
      "grid_auto_rows": null,
      "grid_column": null,
      "grid_gap": null,
      "grid_row": null,
      "grid_template_areas": null,
      "grid_template_columns": null,
      "grid_template_rows": null,
      "height": null,
      "justify_content": null,
      "justify_items": null,
      "left": null,
      "margin": null,
      "max_height": null,
      "max_width": null,
      "min_height": null,
      "min_width": null,
      "object_fit": null,
      "object_position": null,
      "order": null,
      "overflow": null,
      "overflow_x": null,
      "overflow_y": null,
      "padding": null,
      "right": null,
      "top": null,
      "visibility": null,
      "width": null
     }
    }
   }
  }
 },
 "nbformat": 4,
 "nbformat_minor": 0
}
